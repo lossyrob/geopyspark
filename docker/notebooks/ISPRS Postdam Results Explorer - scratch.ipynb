{
 "cells": [
  {
   "cell_type": "code",
   "execution_count": 1,
   "metadata": {
    "collapsed": true
   },
   "outputs": [],
   "source": [
    "from pyspark import SparkContext\n",
    "from geopyspark.geopycontext import GeoPyContext\n",
    "from geopyspark.geotrellis.catalog import read, read_value, query, write\n",
    "from geopyspark.geotrellis.constants import SPATIAL, ZOOM, TILE\n",
    "from geopyspark.geotrellis.geotiff_rdd import get\n",
    "from geopyspark.geotrellis.rdd import RasterRDD, TiledRasterRDD\n",
    "from geopyspark.geotrellis.catalog import _construct_catalog, _mapped_cached\n",
    "from geopyspark.geotrellis.constants import SPATIAL, TILE\n",
    "from geonotebook.vis.geotrellis.render_methods import render_nlcd, single_band_render_from_color_map\n",
    "from geonotebook.wrappers import GeoTrellisCatalogLayerData, RddRasterData\n",
    "from geonotebook.wrappers.vector import GeoJsonData\n",
    "import numpy as np\n",
    "from shapely.geometry import Polygon, mapping\n",
    "from shapely.ops import transform\n",
    "from functools import partial\n",
    "import pyproj\n",
    "from PIL import Image"
   ]
  },
  {
   "cell_type": "code",
   "execution_count": 2,
   "metadata": {
    "collapsed": true
   },
   "outputs": [],
   "source": [
    "sc = SparkContext(appName=\"Potsdam Viz\")\n",
    "geopysc = GeoPyContext(sc)"
   ]
  },
  {
   "cell_type": "code",
   "execution_count": 3,
   "metadata": {
    "collapsed": true
   },
   "outputs": [],
   "source": [
    "catalog_uri = \"s3://otid-data/viz/catalog\"\n",
    "label_layer_name = \"isprs-potsdam-labels\"\n",
    "imagery_layer_name = \"isprs-potsdam-imagery-rgb\"\n",
    "rir_layer_name = \"isprs-potsdam-imagery-rir\""
   ]
  },
  {
   "cell_type": "code",
   "execution_count": 4,
   "metadata": {
    "collapsed": true
   },
   "outputs": [],
   "source": [
    "label_names = ['Impervious',\n",
    "               'Building',\n",
    "               'Low vegetation',\n",
    "               'Tree',\n",
    "               'Car',\n",
    "               'Clutter']\n",
    "\n",
    "label_keys = [\n",
    "            [255, 255, 255],\n",
    "            [0, 0, 255],\n",
    "            [0, 255, 255],\n",
    "            [0, 255, 0],\n",
    "            [255, 255, 0],\n",
    "            [255, 0, 0],\n",
    "        ]"
   ]
  },
  {
   "cell_type": "code",
   "execution_count": 5,
   "metadata": {},
   "outputs": [
    {
     "data": {
      "text/plain": [
       "<promise.promise.Promise at 0x7f8910415b38>"
      ]
     },
     "execution_count": 5,
     "metadata": {},
     "output_type": "execute_result"
    }
   ],
   "source": [
    "M.set_center(13.04951140975037, 52.40398631048631, 15)\n",
    "M.set_zoom_range(0, 22)"
   ]
  },
  {
   "cell_type": "code",
   "execution_count": 6,
   "metadata": {
    "collapsed": true
   },
   "outputs": [],
   "source": [
    "def rgb_render(tile):\n",
    "    alpha = np.full((256, 256), 0xFF)\n",
    "    alpha[np.ma.where((tile[0] == 0) & (tile[1] == 0) & (tile[2] == 0))] =0x00\n",
    "    arr = np.dstack([tile[0], tile[1], tile[2], alpha]).astype('uint8')\n",
    "    return Image.fromarray(arr, mode='RGBA')\n",
    "\n",
    "def remove_layer(name):\n",
    "    to_remove = []\n",
    "    for l in M.layers:\n",
    "        if l.name == name:\n",
    "            to_remove.append(l)\n",
    "    for x in to_remove:\n",
    "        M.remove_layer(x)\n",
    "        \n",
    "def safe_divide(a, b):\n",
    "    \"\"\"\n",
    "    Avoid divide by zero\n",
    "    http://stackoverflow.com/questions/26248654/numpy-return-0-with-divide-by-zero\n",
    "    \"\"\"\n",
    "    with np.errstate(divide='ignore', invalid='ignore'):\n",
    "        c = np.true_divide(a, b)\n",
    "        c[c == np.inf] = 0\n",
    "        c = np.nan_to_num(c)\n",
    "        return c\n"
   ]
  },
  {
   "cell_type": "code",
   "execution_count": 7,
   "metadata": {
    "collapsed": true
   },
   "outputs": [],
   "source": [
    "def add_label_layer():\n",
    "    data = GeoTrellisCatalogLayerData(geopysc, \n",
    "                                      catalog_uri, \n",
    "                                      label_layer_name,\n",
    "                                      SPATIAL)\n",
    "    M.add_layer(data, name=\"label\", render_tile=rgb_render, max_zoom=22)"
   ]
  },
  {
   "cell_type": "code",
   "execution_count": 8,
   "metadata": {
    "collapsed": true
   },
   "outputs": [],
   "source": [
    "def add_imagery_layer():\n",
    "    data = GeoTrellisCatalogLayerData(geopysc, \n",
    "                                      catalog_uri, \n",
    "                                      imagery_layer_name,\n",
    "                                      SPATIAL)\n",
    "    M.add_layer(data, name=\"aerial\", render_tile=rgb_render, max_zoom=22)"
   ]
  },
  {
   "cell_type": "code",
   "execution_count": 9,
   "metadata": {
    "collapsed": true
   },
   "outputs": [],
   "source": [
    "def add_ndvi_layer(threshold):\n",
    "    colors = { 1: \"#00FF00FF\" }\n",
    "    cmap_render = single_band_render_from_color_map(colors)\n",
    "    def render_ndvi(tile):\n",
    "        rir = tile\n",
    "        red = rir[0].astype('float64')\n",
    "        ir = rir[1].astype('float64')\n",
    "        ndvi = safe_divide((ir - red), (ir + red))\n",
    "        arr = np.zeros((256,256))\n",
    "        high_ndvi = np.ma.where(ndvi >= threshold)\n",
    "        arr[high_ndvi] = 1\n",
    "        \n",
    "        return cmap_render(arr)\n",
    "\n",
    "    data = GeoTrellisCatalogLayerData(geopysc, \n",
    "                                      catalog_uri, \n",
    "                                      rir_layer_name,\n",
    "                                      SPATIAL)\n",
    "    remove_layer(\"ndvi\")\n",
    "    M.add_layer(data, name=\"ndvi\", render_tile=render_ndvi, max_zoom=22)"
   ]
  },
  {
   "cell_type": "code",
   "execution_count": 10,
   "metadata": {
    "collapsed": true
   },
   "outputs": [],
   "source": [
    "def add_diff_layer(model1, model2):\n",
    "    colors = { 1: \"#FF0000FF\" }\n",
    "    cmap_render = single_band_render_from_color_map(colors)\n",
    "    category = label_names.index('Tree')\n",
    "    def render_diff(tiles):\n",
    "        p1, p2 = tiles[0][0], tiles[1][0]\n",
    "        arr = np.zeros((256,256))\n",
    "        arr[np.ma.where((p1 != p2) & ((p1 == category) | (p2 == category)))] = 1\n",
    "        #arr[np.ma.where((p1 != p2) & (labels == label_names.index('Car')))] = 1\n",
    "        #arr[np.ma.where(p1 != p2)] = 1\n",
    "        return cmap_render(arr)\n",
    "    \n",
    "    model1_layer = 'isprs-potsdam-%s-predictions' % model1\n",
    "    model2_layer = 'isprs-potsdam-%s-predictions' % model2\n",
    "    layers = [model1_layer, model2_layer]\n",
    "    data = GeoTrellisCatalogLayerData(geopysc, \n",
    "                                      catalog_uri, \n",
    "                                      layers,\n",
    "                                      SPATIAL)\n",
    "    remove_layer(\"diff\")\n",
    "    M.add_layer(data, name=\"diff\", render_tile=render_diff, max_zoom=22)"
   ]
  },
  {
   "cell_type": "code",
   "execution_count": 11,
   "metadata": {
    "collapsed": true
   },
   "outputs": [],
   "source": [
    "def add_ndvi_analysis(threshold):\n",
    "    \"\"\"\n",
    "    Layer which indicates what pixels have an NDVI threshold above\n",
    "    a specific value but are not labeled as low vegetation or tree,\n",
    "    also pixels that are below the threshold that are labeled\n",
    "    low vegitation or tree.\n",
    "    \"\"\"\n",
    "    colors = { 1: \"#FF0000FF\", 2: \"#0000FFFF\", 3: \"#00FF00FF\" }\n",
    "    cmap_render = single_band_render_from_color_map(colors)\n",
    "    category = label_names.index('Tree')\n",
    "    def render_tile(tiles):\n",
    "        rir, labels = tiles[0], tiles[1]\n",
    "        red = rir[0].astype('float64')\n",
    "        ir = rir[1].astype('float64')\n",
    "        ndvi = safe_divide((ir - red), (ir + red))\n",
    "        arr = np.zeros((256,256))\n",
    "        \n",
    "        high_ndvi_no_veg = np.ma.where((ndvi >= threshold) & \\\n",
    "                                   ((labels[0] == 0xFF) | (labels[1] == 0x00)))\n",
    "        \n",
    "        low_ndvi_veg = np.ma.where((ndvi < threshold) & \\\n",
    "                                       (labels[0] == 0) & \\\n",
    "                                       (labels[1] == 0xFF))\n",
    "        \n",
    "        high_ndvi_veg = np.ma.where((ndvi >= threshold) & \\\n",
    "                                    (labels[0] == 0) & \\\n",
    "                                    (labels[1] == 0xFF))\n",
    "        arr[high_ndvi_no_veg] = 1\n",
    "        arr[low_ndvi_veg] = 2\n",
    "        arr[high_ndvi_veg] = 3\n",
    "        \n",
    "        return cmap_render(arr)\n",
    "    \n",
    "    layers = [rir_layer_name, label_layer_name]\n",
    "    data = GeoTrellisCatalogLayerData(geopysc, \n",
    "                                      catalog_uri, \n",
    "                                      layers,\n",
    "                                      SPATIAL)\n",
    "    remove_layer(\"ndvi-analysis\")\n",
    "    M.add_layer(data, name=\"ndvi-analysis\", render_tile=render_tile, max_zoom=22)"
   ]
  },
  {
   "cell_type": "code",
   "execution_count": 12,
   "metadata": {
    "collapsed": true
   },
   "outputs": [],
   "source": [
    "def add_ndvi_tree_analysis(threshold):\n",
    "    \"\"\"\n",
    "    Layer which indicates what pixels have an NDVI threshold above\n",
    "    a specific value but are not labeled as low vegetation or tree,\n",
    "    also pixels that are below the threshold that are labeled\n",
    "    low vegitation or tree.\n",
    "    \"\"\"\n",
    "    colors = { 1: \"#FF0000FF\", # High NDVI not a tree or low veg [RED]\n",
    "               2: \"#0000FFFF\", # Low NDVI and a tree [BLUE]\n",
    "               3: \"#00FF00FF\", # High NDVI and a tree [GREEN]\n",
    "               4: \"#91E6F2FF\", # Low NDVI and low veg [LIGHT BLUE]\n",
    "               5: \"#77C168FF\"  # High NDVI and veg [LIGHT GREEN]\n",
    "             } \n",
    "    cmap_render = single_band_render_from_color_map(colors)\n",
    "    def render_tile(tiles):\n",
    "        rir, labels = tiles[0], tiles[1]\n",
    "        red = rir[0].astype('float64')\n",
    "        ir = rir[1].astype('float64')\n",
    "        ndvi = safe_divide((ir - red), (ir + red))\n",
    "        arr = np.zeros((256,256))\n",
    "  \n",
    "        high_ndvi_no_veg = np.ma.where((ndvi >= threshold) & \\\n",
    "                                   ((labels[0] == 0xFF) | \n",
    "                                    (labels[1] == 0x00)))\n",
    "        arr[high_ndvi_no_veg] = 1\n",
    "        \n",
    "        low_ndvi_tree = np.ma.where((ndvi < threshold) & \\\n",
    "                                       (labels[0] == 0x00) & \\\n",
    "                                       (labels[1] == 0xFF) & \\\n",
    "                                       (labels[2] == 0x00))\n",
    "        arr[low_ndvi_tree] = 2\n",
    "        \n",
    "        high_ndvi_tree = np.ma.where((ndvi >= threshold) & \\\n",
    "                                    (labels[0] == 0x00) & \\\n",
    "                                    (labels[1] == 0xFF) & \\\n",
    "                                    (labels[2] == 0x00))\n",
    "        arr[high_ndvi_tree] = 3  \n",
    "        \n",
    "        low_ndvi_low_veg = np.ma.where((ndvi < threshold) & \\\n",
    "                                       (labels[0] == 0) & \\\n",
    "                                       (labels[1] == 0xFF) & \\\n",
    "                                       (labels[2] == 0xFF) & \\\n",
    "                                       (arr == 0))\n",
    "\n",
    "        arr[low_ndvi_low_veg] = 4\n",
    "\n",
    "        high_ndvi_low_veg = np.ma.where((ndvi >= threshold) & \\\n",
    "                                        (labels[0] == 0x00) & \\\n",
    "                                        (labels[1] == 0xFF) & \\\n",
    "                                        (labels[2] == 0xFF) & \\\n",
    "                                        (arr == 0))\n",
    "        arr[high_ndvi_low_veg] = 5\n",
    "        \n",
    "        return cmap_render(arr)\n",
    "    \n",
    "    layers = [rir_layer_name, label_layer_name]\n",
    "    data = GeoTrellisCatalogLayerData(geopysc, \n",
    "                                      catalog_uri, \n",
    "                                      layers,\n",
    "                                      SPATIAL)\n",
    "    remove_layer(\"ndvi-analysis-tree\")\n",
    "    M.add_layer(data, name=\"ndvi-analysis-tree\", render_tile=render_tile, max_zoom=22)"
   ]
  },
  {
   "cell_type": "code",
   "execution_count": 21,
   "metadata": {},
   "outputs": [
    {
     "name": "stderr",
     "output_type": "stream",
     "text": [
      "::1 - - [2017-05-23 22:54:43] \"GET /tile/18/140575/86106.png HTTP/1.1\" 200 5974 1.661342\n",
      "::1 - - [2017-05-23 22:54:43] \"GET /tile/18/140576/86106.png HTTP/1.1\" 200 8882 0.683118\n",
      "::1 - - [2017-05-23 22:54:44] \"GET /tile/18/140576/86107.png HTTP/1.1\" 200 10147 0.721904\n",
      "::1 - - [2017-05-23 22:54:45] \"GET /tile/18/140574/86106.png HTTP/1.1\" 200 7614 0.588424\n",
      "::1 - - [2017-05-23 22:54:45] \"GET /tile/18/140575/86108.png HTTP/1.1\" 200 9257 0.560605\n",
      "::1 - - [2017-05-23 22:54:46] \"GET /tile/18/140574/86107.png HTTP/1.1\" 200 11238 0.578814\n",
      "::1 - - [2017-05-23 22:54:47] \"GET /tile/18/140576/86105.png HTTP/1.1\" 200 6407 0.920213\n",
      "::1 - - [2017-05-23 22:54:47] \"GET /tile/18/140575/86105.png HTTP/1.1\" 200 7946 0.537804\n",
      "::1 - - [2017-05-23 22:54:48] \"GET /tile/18/140576/86108.png HTTP/1.1\" 200 9339 0.618496\n",
      "::1 - - [2017-05-23 22:54:49] \"GET /tile/18/140577/86106.png HTTP/1.1\" 200 9272 0.679623\n",
      "::1 - - [2017-05-23 22:54:49] \"GET /tile/18/140577/86107.png HTTP/1.1\" 200 9061 0.773451\n",
      "::1 - - [2017-05-23 22:54:50] \"GET /tile/18/140577/86105.png HTTP/1.1\" 200 9818 0.723181\n",
      "::1 - - [2017-05-23 22:54:51] \"GET /tile/18/140574/86105.png HTTP/1.1\" 200 8985 0.905837\n",
      "::1 - - [2017-05-23 22:54:52] \"GET /tile/18/140574/86108.png HTTP/1.1\" 200 10034 0.849255\n",
      "::1 - - [2017-05-23 22:54:53] \"GET /tile/18/140577/86108.png HTTP/1.1\" 200 7516 0.802227\n",
      "::1 - - [2017-05-23 22:54:54] \"GET /tile/18/140575/86107.png HTTP/1.1\" 200 11040 1.510535\n",
      "::1 - - [2017-05-23 22:55:19] \"GET /tile/18/140578/86106.png HTTP/1.1\" 200 8813 0.625623\n",
      "::1 - - [2017-05-23 22:55:20] \"GET /tile/18/140578/86107.png HTTP/1.1\" 200 8527 0.676722\n",
      "::1 - - [2017-05-23 22:55:21] \"GET /tile/18/140578/86105.png HTTP/1.1\" 200 10781 0.838674\n",
      "::1 - - [2017-05-23 22:55:22] \"GET /tile/18/140578/86108.png HTTP/1.1\" 200 7374 0.875707\n",
      "::1 - - [2017-05-23 22:55:27] \"GET /tile/18/140579/86106.png HTTP/1.1\" 200 9916 0.920425\n",
      "::1 - - [2017-05-23 22:55:28] \"GET /tile/18/140579/86107.png HTTP/1.1\" 200 9355 0.622941\n",
      "::1 - - [2017-05-23 22:55:29] \"GET /tile/18/140579/86105.png HTTP/1.1\" 200 12306 0.853643\n",
      "::1 - - [2017-05-23 22:55:29] \"GET /tile/18/140579/86108.png HTTP/1.1\" 200 5001 0.714460\n",
      "::1 - - [2017-05-23 22:55:43] \"GET /tile/21/1124614/688860.png HTTP/1.1\" 200 4369 0.723138\n",
      "::1 - - [2017-05-23 22:55:43] \"GET /tile/21/1124613/688860.png HTTP/1.1\" 200 2612 0.743310\n",
      "::1 - - [2017-05-23 22:55:44] \"GET /tile/21/1124614/688859.png HTTP/1.1\" 200 3005 0.621727\n",
      "::1 - - [2017-05-23 22:55:45] \"GET /tile/21/1124614/688861.png HTTP/1.1\" 200 6164 0.718126\n",
      "::1 - - [2017-05-23 22:55:46] \"GET /tile/21/1124615/688860.png HTTP/1.1\" 200 3876 1.338940\n",
      "::1 - - [2017-05-23 22:55:47] \"GET /tile/21/1124613/688859.png HTTP/1.1\" 200 6031 0.776527\n",
      "::1 - - [2017-05-23 22:55:52] \"GET /tile/21/1124609/688858.png HTTP/1.1\" 200 3819 0.773963\n",
      "::1 - - [2017-05-23 22:55:52] \"GET /tile/21/1124608/688858.png HTTP/1.1\" 200 3079 0.671397\n",
      "::1 - - [2017-05-23 22:55:53] \"GET /tile/21/1124609/688857.png HTTP/1.1\" 200 2502 0.723312\n",
      "::1 - - [2017-05-23 22:55:54] \"GET /tile/21/1124609/688859.png HTTP/1.1\" 200 1795 0.750265\n",
      "::1 - - [2017-05-23 22:55:55] \"GET /tile/21/1124610/688858.png HTTP/1.1\" 200 4126 0.687851\n",
      "::1 - - [2017-05-23 22:55:55] \"GET /tile/21/1124608/688857.png HTTP/1.1\" 200 2620 0.680254\n",
      "::1 - - [2017-05-23 22:57:06] \"GET /tile/21/1124608/688859.png HTTP/1.1\" 200 2786 0.754162\n",
      "::1 - - [2017-05-23 22:57:06] \"GET /tile/21/1124610/688857.png HTTP/1.1\" 200 1906 0.673379\n",
      "::1 - - [2017-05-23 22:57:07] \"GET /tile/21/1124610/688859.png HTTP/1.1\" 200 4162 0.790897\n",
      "::1 - - [2017-05-23 22:57:08] \"GET /tile/21/1124613/688861.png HTTP/1.1\" 200 4125 0.918382\n",
      "::1 - - [2017-05-23 22:57:09] \"GET /tile/21/1124615/688859.png HTTP/1.1\" 200 2419 0.796081\n",
      "::1 - - [2017-05-23 22:57:10] \"GET /tile/21/1124615/688861.png HTTP/1.1\" 200 4418 0.924092\n",
      "::1 - - [2017-05-23 22:57:10] \"GET /shutdown HTTP/1.1\" 500 412 0.003030\n"
     ]
    }
   ],
   "source": [
    "#add_label_layer()\n",
    "#add_imagery_layer()\n",
    "#add_diff_layer(\"fcn\", \"unet\")\n",
    "#add_ndvi_analysis(0.1)\n",
    "add_ndvi_tree_analysis(0.1)\n",
    "#add_ndvi_layer(0.3)"
   ]
  },
  {
   "cell_type": "code",
   "execution_count": 24,
   "metadata": {},
   "outputs": [
    {
     "name": "stderr",
     "output_type": "stream",
     "text": [
      "::1 - - [2017-05-22 20:53:47] \"GET /tile/15/17571/10763.png HTTP/1.1\" 200 111284 1.264673\n",
      "::1 - - [2017-05-22 20:53:47] \"GET /tile/15/17572/10763.png HTTP/1.1\" 200 162982 0.345842\n",
      "::1 - - [2017-05-22 20:53:49] \"GET /tile/15/17571/10764.png HTTP/1.1\" 200 145057 1.719133\n",
      "::1 - - [2017-05-22 20:53:49] \"GET /tile/15/17572/10764.png HTTP/1.1\" 200 157706 0.525453\n",
      "::1 - - [2017-05-22 20:53:50] \"GET /tile/15/17570/10763.png HTTP/1.1\" 500 2971 0.150799\n",
      "::1 - - [2017-05-22 20:53:50] \"GET /tile/15/17571/10765.png HTTP/1.1\" 200 18284 0.184907\n",
      "::1 - - [2017-05-22 20:53:50] \"GET /tile/15/17570/10764.png HTTP/1.1\" 200 92099 0.303480\n",
      "::1 - - [2017-05-22 20:53:50] \"GET /tile/15/17572/10762.png HTTP/1.1\" 200 54933 0.154307\n",
      "::1 - - [2017-05-22 20:53:50] \"GET /tile/15/17571/10762.png HTTP/1.1\" 200 35348 0.160998\n",
      "::1 - - [2017-05-22 20:53:51] \"GET /tile/15/17572/10765.png HTTP/1.1\" 200 15348 0.134071\n",
      "::1 - - [2017-05-22 20:53:51] \"GET /tile/15/17573/10763.png HTTP/1.1\" 200 97404 0.329113\n",
      "::1 - - [2017-05-22 20:53:51] \"GET /tile/15/17573/10764.png HTTP/1.1\" 200 87693 0.338401\n",
      "::1 - - [2017-05-22 20:53:51] \"GET /tile/15/17573/10762.png HTTP/1.1\" 200 19964 0.197884\n",
      "::1 - - [2017-05-22 20:53:52] \"GET /tile/15/17570/10762.png HTTP/1.1\" 500 2971 0.083002\n",
      "::1 - - [2017-05-22 20:53:52] \"GET /tile/15/17570/10765.png HTTP/1.1\" 200 20500 0.219436\n",
      "::1 - - [2017-05-22 20:53:52] \"GET /tile/15/17573/10765.png HTTP/1.1\" 200 436 0.140401\n",
      "::1 - - [2017-05-22 20:54:16] \"GET /tile/18/140574/86110.png HTTP/1.1\" 200 135397 1.498145\n",
      "::1 - - [2017-05-22 20:54:16] \"GET /tile/18/140575/86110.png HTTP/1.1\" 200 134330 0.427075\n",
      "::1 - - [2017-05-22 20:54:17] \"GET /tile/18/140575/86109.png HTTP/1.1\" 200 137958 0.592492\n",
      "::1 - - [2017-05-22 20:54:17] \"GET /tile/18/140573/86109.png HTTP/1.1\" 200 137440 0.534539\n",
      "::1 - - [2017-05-22 20:54:18] \"GET /tile/18/140573/86110.png HTTP/1.1\" 200 140967 0.465418\n",
      "::1 - - [2017-05-22 20:54:23] \"GET /tile/18/140574/86107.png HTTP/1.1\" 200 131612 0.359430\n",
      "::1 - - [2017-05-22 20:54:24] \"GET /tile/18/140575/86107.png HTTP/1.1\" 200 132485 0.445137\n",
      "::1 - - [2017-05-22 20:54:24] \"GET /tile/18/140574/86106.png HTTP/1.1\" 200 126047 0.383072\n",
      "::1 - - [2017-05-22 20:54:24] \"GET /tile/18/140574/86108.png HTTP/1.1\" 200 126687 0.313861\n",
      "::1 - - [2017-05-22 20:54:25] \"GET /tile/18/140575/86106.png HTTP/1.1\" 200 126106 0.363399\n",
      "::1 - - [2017-05-22 20:54:28] \"GET /tile/18/140575/86108.png HTTP/1.1\" 200 126548 0.354963\n",
      "::1 - - [2017-05-22 20:54:29] \"GET /tile/18/140576/86107.png HTTP/1.1\" 200 131406 0.404626\n",
      "::1 - - [2017-05-22 20:54:29] \"GET /tile/18/140573/86107.png HTTP/1.1\" 200 133732 0.360248\n",
      "::1 - - [2017-05-22 20:54:29] \"GET /tile/18/140573/86108.png HTTP/1.1\" 200 130872 0.367405\n",
      "::1 - - [2017-05-22 20:54:30] \"GET /tile/18/140576/86108.png HTTP/1.1\" 200 127599 0.337153\n",
      "::1 - - [2017-05-22 20:54:35] \"GET /tile/18/140576/86106.png HTTP/1.1\" 200 127539 0.795288\n",
      "::1 - - [2017-05-22 20:54:35] \"GET /tile/18/140573/86106.png HTTP/1.1\" 200 133891 0.436657\n",
      "::1 - - [2017-05-22 20:54:36] \"GET /tile/18/140574/86105.png HTTP/1.1\" 200 128501 0.364625\n",
      "::1 - - [2017-05-22 20:54:36] \"GET /tile/18/140575/86105.png HTTP/1.1\" 200 124964 0.402986\n",
      "::1 - - [2017-05-22 20:54:36] \"GET /tile/18/140576/86105.png HTTP/1.1\" 200 126032 0.457055\n",
      "::1 - - [2017-05-22 20:54:41] \"GET /tile/18/140577/86107.png HTTP/1.1\" 200 130534 0.374953\n",
      "::1 - - [2017-05-22 20:54:41] \"GET /tile/18/140573/86105.png HTTP/1.1\" 200 134277 0.371962\n",
      "::1 - - [2017-05-22 20:54:42] \"GET /tile/18/140576/86109.png HTTP/1.1\" 200 135382 0.437018\n",
      "::1 - - [2017-05-22 20:54:42] \"GET /tile/18/140572/86107.png HTTP/1.1\" 200 130878 0.352450\n",
      "::1 - - [2017-05-22 20:54:42] \"GET /tile/18/140572/86108.png HTTP/1.1\" 200 133347 0.319210\n",
      "::1 - - [2017-05-22 20:54:46] \"GET /tile/18/140577/86106.png HTTP/1.1\" 200 133455 0.351988\n",
      "::1 - - [2017-05-22 20:54:47] \"GET /tile/18/140577/86108.png HTTP/1.1\" 200 125514 0.578037\n",
      "::1 - - [2017-05-22 20:54:47] \"GET /tile/18/140572/86106.png HTTP/1.1\" 200 135846 0.301535\n",
      "::1 - - [2017-05-22 20:54:48] \"GET /tile/18/140572/86105.png HTTP/1.1\" 200 133743 0.302658\n",
      "::1 - - [2017-05-22 20:54:48] \"GET /tile/18/140572/86109.png HTTP/1.1\" 200 137684 0.351173\n",
      "::1 - - [2017-05-22 20:54:55] \"GET /tile/18/140577/86105.png HTTP/1.1\" 200 128227 0.482732\n",
      "::1 - - [2017-05-22 20:54:55] \"GET /tile/18/140577/86109.png HTTP/1.1\" 200 128502 0.353665\n",
      "::1 - - [2017-05-22 20:54:56] \"GET /tile/18/140574/86111.png HTTP/1.1\" 200 138706 0.480939\n",
      "::1 - - [2017-05-22 20:54:56] \"GET /tile/18/140573/86111.png HTTP/1.1\" 200 137750 0.450258\n",
      "::1 - - [2017-05-22 20:54:56] \"GET /tile/18/140575/86111.png HTTP/1.1\" 200 136876 0.320971\n",
      "::1 - - [2017-05-22 20:55:00] \"GET /tile/18/140572/86110.png HTTP/1.1\" 200 143316 0.418078\n",
      "::1 - - [2017-05-22 20:55:00] \"GET /tile/18/140576/86110.png HTTP/1.1\" 200 126459 0.375027\n",
      "::1 - - [2017-05-22 20:55:01] \"GET /tile/18/140572/86111.png HTTP/1.1\" 200 140595 0.278095\n",
      "::1 - - [2017-05-22 20:55:01] \"GET /tile/18/140576/86111.png HTTP/1.1\" 200 133899 0.333067\n",
      "::1 - - [2017-05-22 20:55:02] \"GET /tile/18/140574/86112.png HTTP/1.1\" 200 132209 0.503265\n",
      "::1 - - [2017-05-22 20:55:05] \"GET /tile/18/140575/86112.png HTTP/1.1\" 200 130435 1.643399\n",
      "::1 - - [2017-05-22 20:55:06] \"GET /tile/18/140573/86112.png HTTP/1.1\" 200 138703 0.760438\n",
      "::1 - - [2017-05-22 20:55:07] \"GET /tile/18/140572/86112.png HTTP/1.1\" 200 141429 0.750998\n",
      "::1 - - [2017-05-22 20:55:07] \"GET /tile/18/140576/86112.png HTTP/1.1\" 200 134325 0.720472\n",
      "::1 - - [2017-05-22 20:55:08] \"GET /tile/18/140574/86109.png HTTP/1.1\" 200 135699 0.699822\n"
     ]
    }
   ],
   "source": [
    "add_imagery_layer()"
   ]
  },
  {
   "cell_type": "code",
   "execution_count": null,
   "metadata": {
    "collapsed": true
   },
   "outputs": [],
   "source": [
    "M.layers"
   ]
  },
  {
   "cell_type": "code",
   "execution_count": 22,
   "metadata": {
    "collapsed": true
   },
   "outputs": [],
   "source": [
    "#remove_layer(\"aerial\")\n",
    "#remove_layer(\"diff\")\n",
    "#remove_layer(\"ndvi\")\n",
    "#remove_layer(\"ndvi-analysis\")\n",
    "remove_layer(\"ndvi-analysis-tree\")\n",
    "#remove_layer(\"label\")"
   ]
  },
  {
   "cell_type": "code",
   "execution_count": null,
   "metadata": {
    "collapsed": true
   },
   "outputs": [],
   "source": [
    "M.remove_layer(M.layers[0])"
   ]
  },
  {
   "cell_type": "code",
   "execution_count": null,
   "metadata": {
    "collapsed": true
   },
   "outputs": [],
   "source": [
    "from geopyspark.geotrellis.catalog import get_layer_ids\n",
    "layer_ids = list(get_layer_ids(geopysc, catalog_uri))\n",
    "layer_name = label_layer_name\n",
    "zooms = []\n",
    "for lid in layer_ids:\n",
    "    if lid['name'] == layer_name:\n",
    "        zooms.append(int(lid['zoom']))\n",
    "print(min(zooms))\n",
    "print(max(zooms))"
   ]
  },
  {
   "cell_type": "code",
   "execution_count": null,
   "metadata": {
    "collapsed": true
   },
   "outputs": [],
   "source": [
    "layer_ids"
   ]
  },
  {
   "cell_type": "code",
   "execution_count": null,
   "metadata": {
    "collapsed": true
   },
   "outputs": [],
   "source": [
    "l.vis_options.maxZoom\n"
   ]
  },
  {
   "cell_type": "code",
   "execution_count": null,
   "metadata": {
    "collapsed": true
   },
   "outputs": [],
   "source": [
    "M.get_map_state()"
   ]
  },
  {
   "cell_type": "code",
   "execution_count": null,
   "metadata": {
    "collapsed": true
   },
   "outputs": [],
   "source": [
    "M.remove_layer(M.layers[0])"
   ]
  },
  {
   "cell_type": "code",
   "execution_count": null,
   "metadata": {
    "collapsed": true
   },
   "outputs": [],
   "source": [
    "np.zeros((256,256))"
   ]
  },
  {
   "cell_type": "markdown",
   "metadata": {
    "collapsed": true
   },
   "source": [
    "# Analyze FCN vs FCN/DSM performance"
   ]
  },
  {
   "cell_type": "code",
   "execution_count": 16,
   "metadata": {
    "collapsed": true
   },
   "outputs": [],
   "source": [
    "from geopyspark.geotrellis import catalog"
   ]
  },
  {
   "cell_type": "code",
   "execution_count": 18,
   "metadata": {
    "collapsed": true
   },
   "outputs": [],
   "source": [
    "ZOOM = 20\n",
    "NUM_PARTITIONS = 500\n",
    "\n",
    "def tag_and_map(tag):\n",
    "    def mapper(tup):\n",
    "        (k, v) = tup\n",
    "        return ((k['col'], k['row']), (tag, v))\n",
    "    return mapper\n",
    "\n",
    "fcn = read(geopysc,\n",
    "           SPATIAL,\n",
    "           catalog_uri,\n",
    "           \"isprs-potsdam-fcn-predictions\",\n",
    "           ZOOM, \n",
    "           numPartitions=NUM_PARTITIONS).to_numpy_rdd() \\\n",
    "                                        .map(tag_and_map(\"fcn\"))\n",
    "fcndsm = read(geopysc,\n",
    "              SPATIAL,\n",
    "              catalog_uri,\n",
    "              \"isprs-potsdam-fcndsm-predictions\",\n",
    "              ZOOM, \n",
    "              numPartitions=NUM_PARTITIONS).to_numpy_rdd() \\\n",
    "                                           .map(tag_and_map(\"fcndsm\"))\n",
    "labels = read(geopysc,\n",
    "              SPATIAL,\n",
    "              catalog_uri,\n",
    "              label_layer_name,\n",
    "              ZOOM, \n",
    "              numPartitions=NUM_PARTITIONS).to_numpy_rdd() \\\n",
    "                                           .map(tag_and_map(\"label\"))"
   ]
  },
  {
   "cell_type": "code",
   "execution_count": 19,
   "metadata": {
    "collapsed": true
   },
   "outputs": [],
   "source": [
    "def label_rgb_to_labels(tile):\n",
    "    arr = np.zeros((256,256))\n",
    "    def set_label(idx):\n",
    "        arr[np.ma.where((tile[0] == label_keys[idx][0]) & \\\n",
    "                        (tile[1] == label_keys[idx][1]) & \\\n",
    "                        (tile[2] == label_keys[idx][2]))] = idx\n",
    "    for i in range(0, len(label_keys)):\n",
    "        set_label(i)\n",
    "\n",
    "    return arr\n",
    "\n",
    "def mapper(tup):\n",
    "    v = list(tup[1])\n",
    "    fcn_tile = next(filter(lambda x: x[0] == \"fcn\", v))[1]['data'][0]\n",
    "    fcndsm_tile = next(filter(lambda x: x[0] == \"fcndsm\", v))[1]['data'][0]\n",
    "    label_tile = label_rgb_to_labels(next(filter(lambda x: x[0] == \"label\", v))[1]['data'])\n",
    "    result = []\n",
    "\n",
    "    fcn_total_incorrect = 0\n",
    "    fcndsm_total_incorrect = 0\n",
    "    \n",
    "    for i in range(0, len(label_keys)):\n",
    "        arr = np.zeros((256,256))\n",
    "        arr[np.ma.where((label_tile != i) & (fcn_tile == i))] = 1\n",
    "        fcn_false_positives = arr.sum()\n",
    "        \n",
    "        arr = np.zeros((256,256))\n",
    "        arr[np.ma.where((label_tile == i) & (fcn_tile != i))] = 1\n",
    "        fcn_false_negatives = arr.sum()\n",
    "        \n",
    "        fcn_total_incorrect += fcn_false_negatives\n",
    "        \n",
    "        arr = np.zeros((256,256))\n",
    "        arr[np.ma.where((label_tile != i) & (fcndsm_tile == i))] = 1\n",
    "        fcndsm_false_positives = arr.sum()\n",
    "        \n",
    "        arr = np.zeros((256,256))\n",
    "        arr[np.ma.where((label_tile == i) & (fcndsm_tile != i))] = 1\n",
    "        fcndsm_false_negatives = arr.sum()\n",
    "        \n",
    "        fcndsm_total_incorrect += fcndsm_false_negatives\n",
    "\n",
    "        result.append((fcn_false_positives, \n",
    "                       fcn_false_negatives, \n",
    "                       fcndsm_false_positives, \n",
    "                       fcndsm_false_negatives))\n",
    "    return (1, fcn_total_incorrect, fcndsm_total_incorrect, result)\n",
    "    \n",
    "def reducer(tup1, tup2):\n",
    "    (count1, fcn1, fcndsm1, r1) = tup1\n",
    "    (count2, fcn2, fcndsm2, r2) = tup2\n",
    "    result = []\n",
    "    for i in range(0, len(r1)):\n",
    "        fcn_false_positives = r1[i][0] + r2[i][0]\n",
    "        fcn_false_negatives = r1[i][1] + r2[i][1]\n",
    "        fcndsm_false_positives = r1[i][2] + r2[i][2]\n",
    "        fcndsm_false_negatives = r1[i][3] + r2[i][3]\n",
    "        result.append((fcn_false_positives, \n",
    "                       fcn_false_negatives, \n",
    "                       fcndsm_false_positives,\n",
    "                       fcndsm_false_negatives))\n",
    "    return (count1 + count2, \n",
    "            fcn1 + fcn2,\n",
    "            fcndsm1 + fcndsm2,\n",
    "            result)\n",
    "\n",
    "(tile_count, \n",
    " fcn_total_incorrect,\n",
    " fcndsm_total_incorrect,\n",
    " result) = sc.union([fcn, fcndsm, labels]) \\\n",
    "             .groupByKey() \\\n",
    "             .map(mapper) \\\n",
    "             .reduce(reducer)\n"
   ]
  },
  {
   "cell_type": "code",
   "execution_count": 20,
   "metadata": {},
   "outputs": [
    {
     "name": "stdout",
     "output_type": "stream",
     "text": [
      "TOTAL PIXELS: 274006016\n",
      "TOTAL FCN INCORRECT: 49475435 (18.06%)\n",
      "TOTAL FCN w/ DSM INCORRECT: 50995123 (18.61%)\n",
      "Impervious: \n",
      "\tFalse Positives: \n",
      "\t\tFCN: 8900965\tFCN w/ DSM: 8219286\n",
      "\t\tFCN got 681679 more false positives. (8.29%)\n",
      "\tFalse Negatives: \n",
      "\t\tFCN: 21960638\tFCN w/ DSM: 23347061\n",
      "\t\tFCN DSM got 1386423 more false negatives. (6.31%)\n",
      "Building: \n",
      "\tFalse Positives: \n",
      "\t\tFCN: 5111063\tFCN w/ DSM: 5025113\n",
      "\t\tFCN got 85950 more false positives. (1.71%)\n",
      "\tFalse Negatives: \n",
      "\t\tFCN: 4069051\tFCN w/ DSM: 3318913\n",
      "\t\tFCN got 750138 more false negatives. (22.60%)\n",
      "Low vegetation: \n",
      "\tFalse Positives: \n",
      "\t\tFCN: 10930413\tFCN w/ DSM: 12173261\n",
      "\t\tFCN DSM got 1242848 more false positives. (11.37%)\n",
      "\tFalse Negatives: \n",
      "\t\tFCN: 10441264\tFCN w/ DSM: 9949842\n",
      "\t\tFCN got 491422 more false negatives. (4.94%)\n",
      "Tree: \n",
      "\tFalse Positives: \n",
      "\t\tFCN: 6585154\tFCN w/ DSM: 7196733\n",
      "\t\tFCN DSM got 611579 more false positives. (9.29%)\n",
      "\tFalse Negatives: \n",
      "\t\tFCN: 6630455\tFCN w/ DSM: 8167376\n",
      "\t\tFCN DSM got 1536921 more false negatives. (23.18%)\n",
      "Car: \n",
      "\tFalse Positives: \n",
      "\t\tFCN: 714674\tFCN w/ DSM: 805609\n",
      "\t\tFCN DSM got 90935 more false positives. (12.72%)\n",
      "\tFalse Negatives: \n",
      "\t\tFCN: 619366\tFCN w/ DSM: 860032\n",
      "\t\tFCN DSM got 240666 more false negatives. (38.86%)\n",
      "Clutter: \n",
      "\tFalse Positives: \n",
      "\t\tFCN: 3296429\tFCN w/ DSM: 3638384\n",
      "\t\tFCN DSM got 341955 more false positives. (10.37%)\n",
      "\tFalse Negatives: \n",
      "\t\tFCN: 5754661\tFCN w/ DSM: 5351899\n",
      "\t\tFCN got 402762 more false negatives. (7.53%)\n"
     ]
    }
   ],
   "source": [
    "def percent_more(a, b):\n",
    "    if a > b:\n",
    "        return ((a - b) / b) * 100\n",
    "    else:\n",
    "        return ((b - a) / a) * 100\n",
    "        \n",
    "def format_percent(p):\n",
    "    return \"{0:.2f}%\".format(p)\n",
    "\n",
    "total_count = tile_count * 256 * 256\n",
    "print(\"TOTAL PIXELS: %d\" % total_count)\n",
    "fcn_wrong_percent = format_percent((fcn_total_incorrect / total_count) * 100)\n",
    "print(\"TOTAL FCN INCORRECT: %d (%s)\" % (fcn_total_incorrect, fcn_wrong_percent))\n",
    "fcndsm_wrong_percent = format_percent((fcndsm_total_incorrect / total_count) * 100)\n",
    "print(\"TOTAL FCN w/ DSM INCORRECT: %d (%s)\" % (fcndsm_total_incorrect, fcndsm_wrong_percent))\n",
    "for i, (fcn_false_positives, \n",
    "        fcn_false_negatives, \n",
    "        fcndsm_false_positives, \n",
    "        fcndsm_false_negatives) in enumerate(result):\n",
    "    print(\"%s: \" % label_names[i])\n",
    "    print(\"\\tFalse Positives: \")\n",
    "    print(\"\\t\\tFCN: %d\\tFCN w/ DSM: %d\" % (fcn_false_positives, fcndsm_false_positives))\n",
    "    dp = fcn_false_positives - fcndsm_false_positives\n",
    "    p = format_percent(percent_more(fcn_false_positives, fcndsm_false_positives))\n",
    "    if dp < 0:\n",
    "        print(\"\\t\\tFCN DSM got %d more false positives. (%s)\" % (-dp, p))\n",
    "    else:\n",
    "        print(\"\\t\\tFCN got %d more false positives. (%s)\" % (dp, p))\n",
    "\n",
    "    print(\"\\tFalse Negatives: \")\n",
    "    print(\"\\t\\tFCN: %d\\tFCN w/ DSM: %d\" % (fcn_false_negatives, fcndsm_false_negatives))\n",
    "    dn = fcn_false_negatives - fcndsm_false_negatives\n",
    "    n = format_percent(percent_more(fcn_false_negatives, fcndsm_false_negatives))\n",
    "    if dn < 0:\n",
    "        print(\"\\t\\tFCN DSM got %d more false negatives. (%s)\" % (-dn, n))\n",
    "    else:\n",
    "        print(\"\\t\\tFCN got %d more false negatives. (%s)\" % (dn, n))\n",
    "   "
   ]
  },
  {
   "cell_type": "code",
   "execution_count": 34,
   "metadata": {},
   "outputs": [
    {
     "data": {
      "text/plain": [
       "[(4786.0, 425733.0, 4421.0, 426509.0),\n",
       " (29725.0, 5012.0, 28958.0, 4368.0),\n",
       " (21530.0, 15854.0, 21770.0, 14792.0),\n",
       " (9738.0, 10598.0, 9430.0, 11701.0),\n",
       " (2339.0, 4224.0, 2400.0, 4214.0),\n",
       " (1006.0, 7861.0, 1658.0, 7211.0)]"
      ]
     },
     "execution_count": 34,
     "metadata": {},
     "output_type": "execute_result"
    }
   ],
   "source": [
    "result"
   ]
  },
  {
   "cell_type": "code",
   "execution_count": null,
   "metadata": {
    "collapsed": true
   },
   "outputs": [],
   "source": []
  }
 ],
 "metadata": {
  "kernelspec": {
   "display_name": "GeoNotebook + GeoPySpark (local)",
   "language": "python",
   "name": "geonotebook3"
  },
  "language_info": {
   "codemirror_mode": {
    "name": "ipython",
    "version": 3
   },
   "file_extension": ".py",
   "mimetype": "text/x-python",
   "name": "python",
   "nbconvert_exporter": "python",
   "pygments_lexer": "ipython3",
   "version": "3.4.5"
  }
 },
 "nbformat": 4,
 "nbformat_minor": 2
}
