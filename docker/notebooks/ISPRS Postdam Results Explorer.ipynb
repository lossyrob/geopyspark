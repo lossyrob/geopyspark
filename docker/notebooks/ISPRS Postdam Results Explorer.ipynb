{
 "cells": [
  {
   "cell_type": "code",
   "execution_count": 1,
   "metadata": {
    "collapsed": true
   },
   "outputs": [],
   "source": [
    "from pyspark import SparkContext\n",
    "from geopyspark.geopycontext import GeoPyContext\n",
    "from geopyspark.geotrellis.catalog import read, read_value, query, write\n",
    "from geopyspark.geotrellis.constants import SPATIAL, ZOOM, TILE\n",
    "from geopyspark.geotrellis.geotiff_rdd import get\n",
    "from geopyspark.geotrellis.rdd import RasterRDD, TiledRasterRDD\n",
    "from geopyspark.geotrellis.catalog import _construct_catalog, _mapped_cached\n",
    "from geopyspark.geotrellis.constants import SPATIAL, TILE\n",
    "from geonotebook.vis.geotrellis.render_methods import render_nlcd, single_band_render_from_color_map\n",
    "from geonotebook.wrappers import GeoTrellisCatalogLayerData, RddRasterData\n",
    "from geonotebook.wrappers.vector import GeoJsonData\n",
    "import numpy as np\n",
    "from shapely.geometry import Polygon, mapping\n",
    "from shapely.ops import transform\n",
    "from functools import partial\n",
    "import pyproj\n",
    "from PIL import Image"
   ]
  },
  {
   "cell_type": "code",
   "execution_count": 5,
   "metadata": {
    "collapsed": true
   },
   "outputs": [],
   "source": [
    "def rgb_render(tile):\n",
    "    alpha = np.full((256, 256), 0xFF)\n",
    "    alpha[np.ma.where((tile[0] == 0) & (tile[1] == 0) & (tile[2] == 0))] =0x00\n",
    "    arr = np.dstack([tile[0], tile[1], tile[2], alpha]).astype('uint8')\n",
    "    return Image.fromarray(arr, mode='RGBA')\n",
    "\n",
    "def remove_layer(name):\n",
    "    to_remove = []\n",
    "    for l in M.layers:\n",
    "        if l.name == name:\n",
    "            to_remove.append(l)\n",
    "    for x in to_remove:\n",
    "        M.remove_layer(x)\n",
    "        \n",
    "def safe_divide(a, b):\n",
    "    \"\"\"\n",
    "    Avoid divide by zero\n",
    "    http://stackoverflow.com/questions/26248654/numpy-return-0-with-divide-by-zero\n",
    "    \"\"\"\n",
    "    with np.errstate(divide='ignore', invalid='ignore'):\n",
    "        c = np.true_divide(a, b)\n",
    "        c[c == np.inf] = 0\n",
    "        c = np.nan_to_num(c)\n",
    "        return c\n"
   ]
  },
  {
   "cell_type": "code",
   "execution_count": 2,
   "metadata": {
    "collapsed": true
   },
   "outputs": [],
   "source": [
    "sc = SparkContext(appName=\"Potsdam Viz\")\n",
    "geopysc = GeoPyContext(sc)"
   ]
  },
  {
   "cell_type": "code",
   "execution_count": 3,
   "metadata": {
    "collapsed": true
   },
   "outputs": [],
   "source": [
    "catalog_uri = \"s3://otid-data/viz/catalog\"\n",
    "label_layer_name = \"isprs-potsdam-labels\"\n",
    "imagery_layer_name = \"isprs-potsdam-imagery-rgb\"\n",
    "rir_layer_name = \"isprs-potsdam-imagery-rir\""
   ]
  },
  {
   "cell_type": "code",
   "execution_count": 4,
   "metadata": {},
   "outputs": [
    {
     "data": {
      "text/plain": [
       "<promise.promise.Promise at 0x7f89140fe1d0>"
      ]
     },
     "execution_count": 4,
     "metadata": {},
     "output_type": "execute_result"
    }
   ],
   "source": [
    "M.set_center(13.04951140975037, 52.40398631048631, 15)\n",
    "M.set_zoom_range(0, 22)"
   ]
  },
  {
   "cell_type": "code",
   "execution_count": 6,
   "metadata": {
    "collapsed": true
   },
   "outputs": [],
   "source": [
    "def add_imagery_layer():\n",
    "    data = GeoTrellisCatalogLayerData(geopysc, \n",
    "                                      catalog_uri, \n",
    "                                      imagery_layer_name,\n",
    "                                      SPATIAL)\n",
    "    M.add_layer(data, name=\"aerial\", render_tile=rgb_render, max_zoom=22)"
   ]
  },
  {
   "cell_type": "code",
   "execution_count": 7,
   "metadata": {
    "collapsed": true
   },
   "outputs": [],
   "source": [
    "def add_ndvi_analysis(threshold):\n",
    "    \"\"\"\n",
    "    Layer which indicates what pixels have an NDVI threshold above\n",
    "    a specific value but are not labeled as low vegetation or tree,\n",
    "    also pixels that are below the threshold that are labeled\n",
    "    low vegitation or tree.\n",
    "    \"\"\"\n",
    "    colors = { 1: \"#FF0000FF\", # High NDVI not a tree or low veg [RED]\n",
    "               2: \"#0000FFFF\", # Low NDVI and a tree [BLUE]\n",
    "               3: \"#00FF00FF\", # High NDVI and a tree [GREEN]\n",
    "               4: \"#91E6F2FF\", # Low NDVI and low veg [LIGHT BLUE]\n",
    "               5: \"#77C168FF\"  # High NDVI and veg [LIGHT GREEN]\n",
    "             } \n",
    "    cmap_render = single_band_render_from_color_map(colors)\n",
    "    def render_tile(tiles):\n",
    "        rir, labels = tiles[0], tiles[1]\n",
    "        red = rir[0].astype('float64')\n",
    "        ir = rir[1].astype('float64')\n",
    "        ndvi = safe_divide((ir - red), (ir + red))\n",
    "        arr = np.zeros((256,256))\n",
    "  \n",
    "        high_ndvi_no_veg = np.ma.where((ndvi >= threshold) & \\\n",
    "                                   ((labels[0] == 0xFF) | \n",
    "                                    (labels[1] == 0x00)))\n",
    "        arr[high_ndvi_no_veg] = 1\n",
    "        \n",
    "        low_ndvi_tree = np.ma.where((ndvi < threshold) & \\\n",
    "                                       (labels[0] == 0x00) & \\\n",
    "                                       (labels[1] == 0xFF) & \\\n",
    "                                       (labels[2] == 0x00))\n",
    "        arr[low_ndvi_tree] = 2\n",
    "        \n",
    "        high_ndvi_tree = np.ma.where((ndvi >= threshold) & \\\n",
    "                                    (labels[0] == 0x00) & \\\n",
    "                                    (labels[1] == 0xFF) & \\\n",
    "                                    (labels[2] == 0x00))\n",
    "        arr[high_ndvi_tree] = 3  \n",
    "        \n",
    "        low_ndvi_low_veg = np.ma.where((ndvi < threshold) & \\\n",
    "                                       (labels[0] == 0) & \\\n",
    "                                       (labels[1] == 0xFF) & \\\n",
    "                                       (labels[2] == 0xFF) & \\\n",
    "                                       (arr == 0))\n",
    "\n",
    "        arr[low_ndvi_low_veg] = 4\n",
    "\n",
    "        high_ndvi_low_veg = np.ma.where((ndvi >= threshold) & \\\n",
    "                                        (labels[0] == 0x00) & \\\n",
    "                                        (labels[1] == 0xFF) & \\\n",
    "                                        (labels[2] == 0xFF) & \\\n",
    "                                        (arr == 0))\n",
    "        arr[high_ndvi_low_veg] = 5\n",
    "        \n",
    "        return cmap_render(arr)\n",
    "    \n",
    "    layers = [rir_layer_name, label_layer_name]\n",
    "    data = GeoTrellisCatalogLayerData(geopysc, \n",
    "                                      catalog_uri, \n",
    "                                      layers,\n",
    "                                      SPATIAL)\n",
    "    remove_layer(\"ndvi-analysis\")\n",
    "    M.add_layer(data, name=\"ndvi-analysis\", render_tile=render_tile, max_zoom=22)"
   ]
  },
  {
   "cell_type": "code",
   "execution_count": 8,
   "metadata": {},
   "outputs": [
    {
     "name": "stderr",
     "output_type": "stream",
     "text": [
      "::1 - - [2017-05-29 00:04:35] \"GET /tile/15/17571/10763.png HTTP/1.1\" 200 111284 1.471694\n",
      "::1 - - [2017-05-29 00:04:35] \"GET /tile/15/17571/10765.png HTTP/1.1\" 200 18284 0.183385\n",
      "::1 - - [2017-05-29 00:04:36] \"GET /tile/15/17570/10764.png HTTP/1.1\" 200 92099 0.233079\n",
      "::1 - - [2017-05-29 00:04:36] \"GET /tile/15/17572/10762.png HTTP/1.1\" 200 54933 0.195412\n",
      "::1 - - [2017-05-29 00:04:36] \"GET /tile/15/17571/10762.png HTTP/1.1\" 200 35348 0.194634\n",
      "::1 - - [2017-05-29 00:04:36] \"GET /tile/15/17572/10765.png HTTP/1.1\" 200 15348 0.172290\n",
      "::1 - - [2017-05-29 00:04:36] \"GET /tile/15/17573/10763.png HTTP/1.1\" 200 97404 0.276912\n",
      "::1 - - [2017-05-29 00:04:37] \"GET /tile/15/17573/10764.png HTTP/1.1\" 200 87693 0.212163\n",
      "::1 - - [2017-05-29 00:04:37] \"GET /tile/15/17573/10762.png HTTP/1.1\" 200 19964 0.175482\n",
      "::1 - - [2017-05-29 00:04:37] \"GET /tile/15/17570/10762.png HTTP/1.1\" 500 2971 0.076593\n",
      "::1 - - [2017-05-29 00:04:37] \"GET /tile/15/17570/10765.png HTTP/1.1\" 200 20500 0.148557\n",
      "::1 - - [2017-05-29 00:04:37] \"GET /tile/15/17573/10765.png HTTP/1.1\" 200 436 0.099401\n",
      "::1 - - [2017-05-29 00:04:37] \"GET /tile/15/17571/10764.png HTTP/1.1\" 200 145057 0.193801\n",
      "::1 - - [2017-05-29 00:04:38] \"GET /tile/15/17572/10763.png HTTP/1.1\" 200 162982 0.240463\n",
      "::1 - - [2017-05-29 00:04:38] \"GET /tile/15/17572/10764.png HTTP/1.1\" 200 157706 0.239319\n",
      "::1 - - [2017-05-29 00:04:38] \"GET /tile/15/17570/10763.png HTTP/1.1\" 500 2971 0.022381\n",
      "::1 - - [2017-05-29 00:04:46] \"GET /tile/15/17569/10764.png HTTP/1.1\" 500 2809 0.206355\n",
      "::1 - - [2017-05-29 00:04:46] \"GET /tile/15/17569/10763.png HTTP/1.1\" 500 2809 0.023002\n",
      "::1 - - [2017-05-29 00:04:46] \"GET /tile/15/17569/10762.png HTTP/1.1\" 500 2809 0.090553\n",
      "::1 - - [2017-05-29 00:04:46] \"GET /tile/15/17569/10765.png HTTP/1.1\" 500 2809 0.067873\n",
      "::1 - - [2017-05-29 00:04:46] \"GET /tile/15/17571/10761.png HTTP/1.1\" 500 2809 0.023298\n",
      "::1 - - [2017-05-29 00:04:46] \"GET /tile/15/17572/10761.png HTTP/1.1\" 500 2809 0.028874\n",
      "::1 - - [2017-05-29 00:04:46] \"GET /tile/15/17573/10761.png HTTP/1.1\" 500 2809 0.020269\n",
      "::1 - - [2017-05-29 00:04:46] \"GET /tile/15/17574/10763.png HTTP/1.1\" 500 2809 0.073033\n",
      "::1 - - [2017-05-29 00:04:46] \"GET /tile/14/8785/5381.png HTTP/1.1\" 200 39556 0.394588\n",
      "::1 - - [2017-05-29 00:04:47] \"GET /tile/14/8785/5382.png HTTP/1.1\" 200 72620 0.245014\n",
      "::1 - - [2017-05-29 00:04:47] \"GET /tile/14/8786/5381.png HTTP/1.1\" 200 88722 0.167668\n",
      "::1 - - [2017-05-29 00:04:47] \"GET /tile/14/8786/5382.png HTTP/1.1\" 200 69668 0.194394\n",
      "::1 - - [2017-05-29 00:04:47] \"GET /tile/14/8784/5381.png HTTP/1.1\" 500 2805 0.024455\n",
      "::1 - - [2017-05-29 00:04:47] \"GET /tile/14/8785/5383.png HTTP/1.1\" 500 2805 0.028373\n",
      "::1 - - [2017-05-29 00:04:47] \"GET /tile/14/8784/5382.png HTTP/1.1\" 500 2805 0.068349\n",
      "::1 - - [2017-05-29 00:04:47] \"GET /tile/14/8786/5380.png HTTP/1.1\" 500 2805 0.056460\n",
      "::1 - - [2017-05-29 00:04:47] \"GET /tile/14/8785/5380.png HTTP/1.1\" 500 2805 0.025806\n",
      "::1 - - [2017-05-29 00:04:47] \"GET /tile/14/8786/5383.png HTTP/1.1\" 500 2805 0.071730\n",
      "::1 - - [2017-05-29 00:04:47] \"GET /tile/14/8787/5381.png HTTP/1.1\" 500 2805 0.026360\n",
      "::1 - - [2017-05-29 00:04:47] \"GET /tile/14/8787/5382.png HTTP/1.1\" 500 2805 0.031327\n",
      "::1 - - [2017-05-29 00:04:47] \"GET /tile/14/8787/5380.png HTTP/1.1\" 500 2805 0.026181\n",
      "::1 - - [2017-05-29 00:04:48] \"GET /tile/14/8784/5380.png HTTP/1.1\" 500 2805 0.073500\n",
      "::1 - - [2017-05-29 00:04:48] \"GET /tile/14/8784/5383.png HTTP/1.1\" 500 2805 0.065830\n",
      "::1 - - [2017-05-29 00:04:48] \"GET /tile/14/8787/5383.png HTTP/1.1\" 500 2805 0.069436\n",
      "::1 - - [2017-05-29 00:04:48] \"GET /tile/15/17570/10761.png HTTP/1.1\" 500 2809 0.023522\n",
      "::1 - - [2017-05-29 00:04:48] \"GET /tile/15/17574/10762.png HTTP/1.1\" 500 2809 0.071105\n",
      "::1 - - [2017-05-29 00:04:48] \"GET /tile/15/17574/10764.png HTTP/1.1\" 500 2809 0.081382\n",
      "::1 - - [2017-05-29 00:04:48] \"GET /tile/15/17569/10761.png HTTP/1.1\" 500 2809 0.080556\n",
      "::1 - - [2017-05-29 00:04:48] \"GET /tile/15/17574/10761.png HTTP/1.1\" 500 2809 0.076825\n",
      "::1 - - [2017-05-29 00:04:48] \"GET /tile/15/17574/10765.png HTTP/1.1\" 500 2809 0.072208\n",
      "::1 - - [2017-05-29 00:11:37] \"GET /tile/19/281149/172221.png HTTP/1.1\" 200 121867 0.995539\n",
      "::1 - - [2017-05-29 00:11:37] \"GET /tile/19/281149/172222.png HTTP/1.1\" 200 130481 0.260398\n",
      "::1 - - [2017-05-29 00:11:38] \"GET /tile/19/281149/172220.png HTTP/1.1\" 200 137546 0.272385\n",
      "::1 - - [2017-05-29 00:11:38] \"GET /tile/19/281150/172221.png HTTP/1.1\" 200 126467 0.234633\n",
      "::1 - - [2017-05-29 00:11:38] \"GET /tile/19/281148/172222.png HTTP/1.1\" 200 127895 0.255051\n",
      "::1 - - [2017-05-29 00:11:42] \"GET /tile/19/281153/172221.png HTTP/1.1\" 200 116578 0.269731\n",
      "::1 - - [2017-05-29 00:11:43] \"GET /tile/19/281154/172221.png HTTP/1.1\" 200 125511 0.236561\n",
      "::1 - - [2017-05-29 00:11:43] \"GET /tile/19/281153/172220.png HTTP/1.1\" 200 116698 0.266358\n",
      "::1 - - [2017-05-29 00:11:43] \"GET /tile/19/281153/172222.png HTTP/1.1\" 200 123009 0.278992\n",
      "::1 - - [2017-05-29 00:11:43] \"GET /tile/19/281154/172220.png HTTP/1.1\" 200 115411 0.290998\n",
      "::1 - - [2017-05-29 00:11:46] \"GET /tile/19/281154/172222.png HTTP/1.1\" 200 121012 0.254330\n",
      "::1 - - [2017-05-29 00:11:46] \"GET /tile/19/281155/172221.png HTTP/1.1\" 200 122221 0.352120\n",
      "::1 - - [2017-05-29 00:11:47] \"GET /tile/19/281152/172221.png HTTP/1.1\" 200 120887 0.242463\n",
      "::1 - - [2017-05-29 00:11:47] \"GET /tile/19/281152/172222.png HTTP/1.1\" 200 130208 0.282056\n",
      "::1 - - [2017-05-29 00:11:47] \"GET /tile/19/281155/172222.png HTTP/1.1\" 200 123807 0.215425\n",
      "::1 - - [2017-05-29 00:11:50] \"GET /tile/19/281155/172220.png HTTP/1.1\" 200 131246 0.252077\n",
      "::1 - - [2017-05-29 00:11:50] \"GET /tile/19/281152/172220.png HTTP/1.1\" 200 120761 0.295857\n",
      "::1 - - [2017-05-29 00:11:50] \"GET /tile/19/281154/172223.png HTTP/1.1\" 200 121749 0.286986\n",
      "::1 - - [2017-05-29 00:11:51] \"GET /tile/19/281153/172219.png HTTP/1.1\" 200 124099 0.275812\n",
      "::1 - - [2017-05-29 00:11:51] \"GET /tile/19/281154/172219.png HTTP/1.1\" 200 114879 0.303858\n",
      "::1 - - [2017-05-29 00:11:54] \"GET /tile/19/281153/172223.png HTTP/1.1\" 200 125589 0.396956\n",
      "::1 - - [2017-05-29 00:11:54] \"GET /tile/19/281155/172219.png HTTP/1.1\" 200 125146 0.233919\n",
      "::1 - - [2017-05-29 00:11:54] \"GET /tile/19/281156/172221.png HTTP/1.1\" 200 128039 0.183724\n",
      "::1 - - [2017-05-29 00:11:55] \"GET /tile/19/281152/172219.png HTTP/1.1\" 200 131886 0.235552\n",
      "::1 - - [2017-05-29 00:11:55] \"GET /tile/19/281152/172223.png HTTP/1.1\" 200 123135 0.161524\n",
      "::1 - - [2017-05-29 00:11:58] \"GET /tile/19/281155/172223.png HTTP/1.1\" 200 123011 0.261227\n",
      "::1 - - [2017-05-29 00:11:58] \"GET /tile/19/281151/172221.png HTTP/1.1\" 200 122669 0.350943\n",
      "::1 - - [2017-05-29 00:11:58] \"GET /tile/19/281151/172222.png HTTP/1.1\" 200 125250 0.248709\n",
      "::1 - - [2017-05-29 00:11:59] \"GET /tile/19/281156/172220.png HTTP/1.1\" 200 126040 0.268148\n",
      "::1 - - [2017-05-29 00:11:59] \"GET /tile/19/281156/172222.png HTTP/1.1\" 200 123795 0.202159\n",
      "::1 - - [2017-05-29 00:12:02] \"GET /tile/19/281151/172220.png HTTP/1.1\" 200 126097 0.313344\n",
      "::1 - - [2017-05-29 00:12:02] \"GET /tile/19/281151/172219.png HTTP/1.1\" 200 125438 0.227511\n",
      "::1 - - [2017-05-29 00:12:02] \"GET /tile/19/281151/172223.png HTTP/1.1\" 200 127550 0.205751\n",
      "::1 - - [2017-05-29 00:12:02] \"GET /tile/19/281156/172219.png HTTP/1.1\" 200 125108 0.226941\n",
      "::1 - - [2017-05-29 00:12:03] \"GET /tile/19/281156/172223.png HTTP/1.1\" 200 127477 0.213350\n",
      "::1 - - [2017-05-29 00:12:05] \"GET /tile/19/281148/172220.png HTTP/1.1\" 200 129982 0.265827\n",
      "::1 - - [2017-05-29 00:12:06] \"GET /tile/19/281150/172220.png HTTP/1.1\" 200 133169 0.315587\n",
      "::1 - - [2017-05-29 00:12:06] \"GET /tile/19/281150/172222.png HTTP/1.1\" 200 131935 0.269555\n",
      "::1 - - [2017-05-29 00:12:06] \"GET /tile/19/281149/172219.png HTTP/1.1\" 200 130897 0.258239\n",
      "::1 - - [2017-05-29 00:12:07] \"GET /tile/19/281149/172223.png HTTP/1.1\" 200 130559 0.275513\n",
      "::1 - - [2017-05-29 00:12:11] \"GET /tile/19/281147/172221.png HTTP/1.1\" 200 131467 0.353201\n",
      "::1 - - [2017-05-29 00:12:12] \"GET /tile/19/281150/172219.png HTTP/1.1\" 200 129000 0.264797\n",
      "::1 - - [2017-05-29 00:12:12] \"GET /tile/19/281147/172222.png HTTP/1.1\" 200 127989 0.233919\n",
      "::1 - - [2017-05-29 00:12:12] \"GET /tile/19/281148/172219.png HTTP/1.1\" 200 128736 0.373039\n",
      "::1 - - [2017-05-29 00:12:12] \"GET /tile/19/281148/172223.png HTTP/1.1\" 200 132065 0.230876\n",
      "::1 - - [2017-05-29 00:12:13] \"GET /tile/19/281150/172223.png HTTP/1.1\" 200 130036 0.247026\n"
     ]
    },
    {
     "name": "stderr",
     "output_type": "stream",
     "text": [
      "::1 - - [2017-05-29 00:12:14] \"GET /tile/19/281147/172220.png HTTP/1.1\" 200 132512 0.195969\n",
      "::1 - - [2017-05-29 00:12:14] \"GET /tile/19/281147/172223.png HTTP/1.1\" 200 132320 0.268915\n",
      "::1 - - [2017-05-29 00:12:14] \"GET /tile/19/281147/172219.png HTTP/1.1\" 200 127568 0.283882\n",
      "::1 - - [2017-05-29 00:12:14] \"GET /tile/19/281148/172221.png HTTP/1.1\" 200 130979 0.218470\n"
     ]
    }
   ],
   "source": [
    "add_imagery_layer()"
   ]
  },
  {
   "cell_type": "code",
   "execution_count": 10,
   "metadata": {},
   "outputs": [
    {
     "name": "stderr",
     "output_type": "stream",
     "text": [
      "::1 - - [2017-05-29 00:12:15] \"GET /shutdown HTTP/1.1\" 500 412 0.002902\n",
      "::1 - - [2017-05-29 00:12:19] \"GET /tile/19/281153/172221.png HTTP/1.1\" 200 5713 0.506459\n",
      "::1 - - [2017-05-29 00:12:19] \"GET /tile/19/281154/172221.png HTTP/1.1\" 200 7077 0.422379\n",
      "::1 - - [2017-05-29 00:12:20] \"GET /tile/19/281153/172220.png HTTP/1.1\" 200 6148 0.347648\n",
      "::1 - - [2017-05-29 00:12:20] \"GET /tile/19/281153/172222.png HTTP/1.1\" 200 5511 0.319469\n",
      "::1 - - [2017-05-29 00:12:20] \"GET /tile/19/281154/172220.png HTTP/1.1\" 200 5283 0.316983\n",
      "::1 - - [2017-05-29 00:12:21] \"GET /tile/19/281154/172222.png HTTP/1.1\" 200 6185 0.360510\n",
      "::1 - - [2017-05-29 00:12:21] \"GET /tile/19/281155/172221.png HTTP/1.1\" 200 3099 0.331870\n",
      "::1 - - [2017-05-29 00:12:21] \"GET /tile/19/281152/172221.png HTTP/1.1\" 200 7313 0.383466\n",
      "::1 - - [2017-05-29 00:12:22] \"GET /tile/19/281152/172222.png HTTP/1.1\" 200 6734 0.354656\n",
      "::1 - - [2017-05-29 00:12:22] \"GET /tile/19/281155/172222.png HTTP/1.1\" 200 7011 0.279721\n",
      "::1 - - [2017-05-29 00:12:22] \"GET /tile/19/281155/172220.png HTTP/1.1\" 200 6474 0.280005\n",
      "::1 - - [2017-05-29 00:12:23] \"GET /tile/19/281152/172220.png HTTP/1.1\" 200 8298 0.330744\n",
      "::1 - - [2017-05-29 00:12:23] \"GET /tile/19/281154/172223.png HTTP/1.1\" 200 6306 0.394721\n",
      "::1 - - [2017-05-29 00:12:23] \"GET /tile/19/281153/172219.png HTTP/1.1\" 200 7063 0.307477\n",
      "::1 - - [2017-05-29 00:12:24] \"GET /tile/19/281154/172219.png HTTP/1.1\" 200 6319 0.401508\n",
      "::1 - - [2017-05-29 00:12:24] \"GET /tile/19/281153/172223.png HTTP/1.1\" 200 2408 0.548730\n",
      "::1 - - [2017-05-29 00:12:25] \"GET /tile/19/281155/172219.png HTTP/1.1\" 200 6018 0.360666\n",
      "::1 - - [2017-05-29 00:12:25] \"GET /tile/19/281156/172221.png HTTP/1.1\" 200 3688 0.333380\n",
      "::1 - - [2017-05-29 00:12:26] \"GET /tile/19/281152/172219.png HTTP/1.1\" 200 5132 0.448003\n",
      "::1 - - [2017-05-29 00:12:26] \"GET /tile/19/281152/172223.png HTTP/1.1\" 200 6631 0.497647\n",
      "::1 - - [2017-05-29 00:12:27] \"GET /tile/19/281155/172223.png HTTP/1.1\" 200 4566 0.424580\n",
      "::1 - - [2017-05-29 00:12:27] \"GET /tile/19/281151/172221.png HTTP/1.1\" 200 6133 0.282153\n",
      "::1 - - [2017-05-29 00:12:27] \"GET /tile/19/281151/172222.png HTTP/1.1\" 200 7475 0.354084\n",
      "::1 - - [2017-05-29 00:12:28] \"GET /tile/19/281156/172220.png HTTP/1.1\" 200 2573 0.357517\n",
      "::1 - - [2017-05-29 00:12:28] \"GET /tile/19/281156/172222.png HTTP/1.1\" 200 9194 0.368523\n",
      "::1 - - [2017-05-29 00:12:28] \"GET /tile/19/281151/172220.png HTTP/1.1\" 200 6187 0.380731\n",
      "::1 - - [2017-05-29 00:12:29] \"GET /tile/19/281151/172219.png HTTP/1.1\" 200 6701 0.424982\n",
      "::1 - - [2017-05-29 00:12:29] \"GET /tile/19/281151/172223.png HTTP/1.1\" 200 7534 0.432266\n",
      "::1 - - [2017-05-29 00:12:30] \"GET /tile/19/281156/172219.png HTTP/1.1\" 200 2235 0.309972\n",
      "::1 - - [2017-05-29 00:12:30] \"GET /tile/19/281156/172223.png HTTP/1.1\" 200 5983 0.415223\n"
     ]
    }
   ],
   "source": [
    "add_ndvi_analysis(0.1)"
   ]
  },
  {
   "cell_type": "code",
   "execution_count": null,
   "metadata": {
    "collapsed": true
   },
   "outputs": [],
   "source": [
    "remove_layer(\"ndvi-analysis\")"
   ]
  },
  {
   "cell_type": "code",
   "execution_count": null,
   "metadata": {
    "collapsed": true
   },
   "outputs": [],
   "source": [
    "remove_layer(\"aerial\")"
   ]
  },
  {
   "cell_type": "code",
   "execution_count": null,
   "metadata": {
    "collapsed": true
   },
   "outputs": [],
   "source": []
  }
 ],
 "metadata": {
  "kernelspec": {
   "display_name": "GeoNotebook + GeoPySpark (local)",
   "language": "python",
   "name": "geonotebook3"
  },
  "language_info": {
   "codemirror_mode": {
    "name": "ipython",
    "version": 3
   },
   "file_extension": ".py",
   "mimetype": "text/x-python",
   "name": "python",
   "nbconvert_exporter": "python",
   "pygments_lexer": "ipython3",
   "version": "3.4.5"
  }
 },
 "nbformat": 4,
 "nbformat_minor": 2
}
