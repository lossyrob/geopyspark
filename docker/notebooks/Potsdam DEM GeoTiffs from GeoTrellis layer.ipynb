{
 "cells": [
  {
   "cell_type": "code",
   "execution_count": 1,
   "metadata": {
    "collapsed": true
   },
   "outputs": [],
   "source": [
    "from pyspark import SparkContext\n",
    "from geopyspark.geopycontext import GeoPyContext\n",
    "from geopyspark.geotrellis.catalog import read, read_value, query, write\n",
    "from geopyspark.geotrellis.constants import SPATIAL, ZOOM, TILE\n",
    "from geopyspark.geotrellis.geotiff_rdd import get\n",
    "from geopyspark.geotrellis.rdd import RasterRDD, TiledRasterRDD\n",
    "from geopyspark.geotrellis.catalog import _construct_catalog, _mapped_cached, read_layer_metadata\n",
    "from geopyspark.geotrellis.constants import SPATIAL, TILE\n",
    "from geonotebook.vis.geotrellis.render_methods import render_nlcd, single_band_render_from_color_map\n",
    "from geonotebook.wrappers import GeoTrellisCatalogLayerData, RddRasterData\n",
    "from geonotebook.wrappers.vector import GeoJsonData\n",
    "import numpy as np\n",
    "import re\n",
    "from shapely.geometry import Polygon, mapping\n",
    "from shapely.ops import transform\n",
    "from functools import partial, reduce\n",
    "import pyproj\n",
    "import rasterio"
   ]
  },
  {
   "cell_type": "code",
   "execution_count": 2,
   "metadata": {
    "collapsed": true
   },
   "outputs": [],
   "source": [
    "catalog_uri = \"s3://otid-data/input/gt-processed-dem/\""
   ]
  },
  {
   "cell_type": "code",
   "execution_count": 3,
   "metadata": {
    "collapsed": true
   },
   "outputs": [],
   "source": [
    "full_min = -35.68600001263555\n",
    "full_max = 106.0929250034017\n",
    "    "
   ]
  },
  {
   "cell_type": "code",
   "execution_count": 4,
   "metadata": {
    "collapsed": true
   },
   "outputs": [],
   "source": [
    "def bounds_to_shape(bounds):\n",
    "    return Polygon([(bounds.left, bounds.top), \n",
    "                    (bounds.right, bounds.top),\n",
    "                    (bounds.right, bounds.bottom),\n",
    "                    (bounds.left, bounds.bottom)])\n",
    "\n",
    "def extent_to_shape(extent):\n",
    "    return Polygon([(extent['xmin'], extent['ymax']), \n",
    "                    (extent['xmax'], extent['ymax']),\n",
    "                    (extent['xmax'], extent['ymin']),\n",
    "                    (extent['xmin'], extent['ymin'])])\n",
    "\n",
    "def reprojected(shape):\n",
    "    project = partial(\n",
    "        pyproj.transform,\n",
    "        pyproj.Proj(init='epsg:32633'),\n",
    "        pyproj.Proj(init='epsg:4326'))\n",
    "    return transform(project, shape)\n"
   ]
  },
  {
   "cell_type": "code",
   "execution_count": 5,
   "metadata": {
    "collapsed": true
   },
   "outputs": [],
   "source": [
    "sc = SparkContext(appName=\"Potsdam\")\n",
    "geopysc = GeoPyContext(sc)"
   ]
  },
  {
   "cell_type": "code",
   "execution_count": 6,
   "metadata": {
    "collapsed": true
   },
   "outputs": [],
   "source": [
    "from boto3 import client\n",
    "bucket = \"otid-data\"\n",
    "keys = []\n",
    "conn = client('s3')\n",
    "for key in conn.list_objects(Bucket=bucket, Prefix='input/1_DSM_normalisation_geotiff-with-geo/')['Contents']:\n",
    "    keys.append(key['Key'])\n"
   ]
  },
  {
   "cell_type": "code",
   "execution_count": 7,
   "metadata": {
    "collapsed": true
   },
   "outputs": [],
   "source": [
    "## A bit of a hack, find the min max of the rasters\n",
    "## we are dealing with before saving off, since we need to \n",
    "## rescale and convert\n",
    "def find_min_max(key):\n",
    "    m = re.search(r\"\\_(\\d\\d)\\_(\\d\\d)\", key)\n",
    "    k = m.group(0)\n",
    "    src = rasterio.open('s3://otid-data/%s' % key)\n",
    "    try:\n",
    "        bounds = bounds_to_shape(src.bounds)\n",
    "        ll_bounds = reprojected(bounds)\n",
    "        M.set_center(ll_bounds.centroid.x, ll_bounds.centroid.y, 15)\n",
    "        vd = GeoJsonData(mapping(ll_bounds))\n",
    "        name = \"Tile%s\" % k\n",
    "        print(\"Processing %s with center %s\" % (name, ll_bounds.centroid))\n",
    "        print(\"  Bounds: %s\" % (bounds))\n",
    "        l = M.add_layer(vd, name=name, colors=[0x00FF00])\n",
    "        try:\n",
    "            dem_all = query(geopysc, SPATIAL, catalog_uri, \"potsdam-dsm-all\", 0, intersects=bounds)\n",
    "            dem_ground = query(geopysc, SPATIAL, catalog_uri, \"potsdam-dsm-ground\", 0, intersects=bounds)\n",
    "            dem = dem_all.repartition(100) - dem_ground.repartition(100)\n",
    "            mm = dem.get_min_max()\n",
    "            M.remove_layer(M.layers.find(name))\n",
    "            M.add_layer(vd, name=name, colors=[0x0000FF])\n",
    "            return mm\n",
    "        except:\n",
    "            M.remove_layer(M.layers.find(name))\n",
    "            M.add_layer(vd, name=name, colors=[0xFF0000])\n",
    "    finally:\n",
    "        src.close()        \n"
   ]
  },
  {
   "cell_type": "code",
   "execution_count": 8,
   "metadata": {
    "collapsed": true
   },
   "outputs": [],
   "source": [
    "#mms = list(map(find_min_max, keys))\n",
    "#total_min = 10000.0\n",
    "#total_max = -10000.0\n",
    "#for m, M in mms:\n",
    "#    if m < total_min:\n",
    "#        total_min = m\n",
    "#    if total_max < M:\n",
    "#        total_max = M\n",
    "#print((total_min, total_max))\n",
    "total_min, total_max = (-48.582757268436076, 58.07267200631878)"
   ]
  },
  {
   "cell_type": "code",
   "execution_count": 19,
   "metadata": {
    "collapsed": true
   },
   "outputs": [],
   "source": [
    "def process_tile(key):\n",
    "    m = re.search(r\"\\_(\\d\\d)\\_(\\d\\d)\", key)\n",
    "    k = m.group(0)\n",
    "    src = rasterio.open('s3://otid-data/%s' % key)\n",
    "    try:\n",
    "        bounds = bounds_to_shape(src.bounds)\n",
    "        ll_bounds = reprojected(bounds)\n",
    "        M.set_center(ll_bounds.centroid.x, ll_bounds.centroid.y, 15)\n",
    "        vd = GeoJsonData(mapping(ll_bounds))\n",
    "        name = \"Tile%s\" % k\n",
    "        print(\"Processing %s with center %s\" % (name, ll_bounds.centroid))\n",
    "        print(\"  Bounds: %s\" % (bounds))\n",
    "        l = M.add_layer(vd, name=name, colors=[0x00FF00])\n",
    "        try:\n",
    "            dem = query(geopysc, SPATIAL, catalog_uri, \"potsdam-dsm-full\", 0, intersects=bounds)\n",
    "            dem.repartition(100) \\\n",
    "               .save_stitched(\"/home/hadoop/notebooks/dsm_potsdam%s.tif\" % k, \n",
    "                              crop_bounds=bounds.bounds, \n",
    "                              crop_dimensions=[6000,6000])\n",
    "            M.remove_layer(M.layers.find(name))\n",
    "            M.add_layer(vd, name=name, colors=[0x0000FF])\n",
    "        except:\n",
    "            M.remove_layer(M.layers.find(name))\n",
    "            M.add_layer(vd, name=name, colors=[0xFF0000])\n",
    "    finally:\n",
    "        src.close()\n",
    "\n",
    "def process_tile_with_norm(key):\n",
    "    m = re.search(r\"\\_(\\d\\d)\\_(\\d\\d)\", key)\n",
    "    k = m.group(0)\n",
    "    src = rasterio.open('s3://otid-data/%s' % key)\n",
    "    try:\n",
    "        bounds = bounds_to_shape(src.bounds)\n",
    "        ll_bounds = reprojected(bounds)\n",
    "        M.set_center(ll_bounds.centroid.x, ll_bounds.centroid.y, 15)\n",
    "        vd = GeoJsonData(mapping(ll_bounds))\n",
    "        name = \"Tile%s\" % k\n",
    "        print(\"Processing %s with center %s\" % (name, ll_bounds.centroid))\n",
    "        print(\"  Bounds: %s\" % (bounds))\n",
    "        l = M.add_layer(vd, name=name, colors=[0x00FF00])\n",
    "        #try:\n",
    "        dem_all = query(geopysc, SPATIAL, catalog_uri, \"potsdam-dsm-all\", 0, intersects=bounds)\n",
    "        dem_ground = query(geopysc, SPATIAL, catalog_uri, \"potsdam-dsm-ground\", 0, intersects=bounds)\n",
    "        dem = dem_all.repartition(100) - dem_ground.repartition(100)\n",
    "        dem = dem.normalize(total_min, total_max, 0.0, 256.0)\n",
    "        dem = dem.convert_data_type(\"uint8\")\n",
    "        print(\"MIN MAX: (%d, %d)\" % dem.get_min_max())\n",
    "        dem.save_stitched(\"/home/hadoop/notebooks/dsm_potsdam%s.tif\" % k, \n",
    "                              crop_bounds=bounds.bounds, \n",
    "                              crop_dimensions=[6000,6000])\n",
    "        M.remove_layer(M.layers.find(name))\n",
    "        M.add_layer(vd, name=name, colors=[0x0000FF])\n",
    "        #except:\n",
    "        #    M.remove_layer(M.layers.find(name))\n",
    "        #    M.add_layer(vd, name=name, colors=[0xFF0000])\n",
    "    finally:\n",
    "        src.close()"
   ]
  },
  {
   "cell_type": "code",
   "execution_count": 20,
   "metadata": {},
   "outputs": [
    {
     "name": "stdout",
     "output_type": "stream",
     "text": [
      "Processing Tile_02_10 with center POINT (13.04651140975037 52.40978631048631)\n",
      "  Bounds: POLYGON ((366976.5 5808562.6, 367276.5 5808562.6, 367276.5 5808262.6, 366976.5 5808262.6, 366976.5 5808562.6))\n",
      "MIN MAX: (95, 185)\n"
     ]
    }
   ],
   "source": [
    "process_tile_with_norm(keys[0])"
   ]
  },
  {
   "cell_type": "code",
   "execution_count": 21,
   "metadata": {},
   "outputs": [
    {
     "name": "stdout",
     "output_type": "stream",
     "text": [
      "Processing Tile_02_10 with center POINT (13.04651140975037 52.40978631048631)\n",
      "  Bounds: POLYGON ((366976.5 5808562.6, 367276.5 5808562.6, 367276.5 5808262.6, 366976.5 5808262.6, 366976.5 5808562.6))\n",
      "MIN MAX: (95, 185)\n",
      "Processing Tile_02_11 with center POINT (13.05091919593039 52.40985908050819)\n",
      "  Bounds: POLYGON ((367276.5 5808562.6, 367576.5 5808562.6, 367576.5 5808262.6, 367276.5 5808262.6, 367276.5 5808562.6))\n",
      "MIN MAX: (105, 181)\n",
      "Processing Tile_02_12 with center POINT (13.05532700090658 52.40993168628162)\n",
      "  Bounds: POLYGON ((367576.5 5808562.6, 367876.5 5808562.6, 367876.5 5808262.6, 367576.5 5808262.6, 367576.5 5808562.6))\n",
      "MIN MAX: (96, 164)\n",
      "Processing Tile_02_13 with center POINT (13.05973482463657 52.41000412780495)\n",
      "  Bounds: POLYGON ((367876.5 5808562.6, 368176.5 5808562.6, 368176.5 5808262.6, 367876.5 5808262.6, 367876.5 5808562.6))\n",
      "MIN MAX: (83, 195)\n",
      "Processing Tile_02_14 with center POINT (13.06414266707799 52.41007640507662)\n",
      "  Bounds: POLYGON ((368176.5 5808562.6, 368476.5 5808562.6, 368476.5 5808262.6, 368176.5 5808262.6, 368176.5 5808562.6))\n",
      "MIN MAX: (83, 192)\n",
      "Processing Tile_03_10 with center POINT (13.04663052939676 52.40709077955218)\n",
      "  Bounds: POLYGON ((366976.5 5808262.6, 367276.5 5808262.6, 367276.5 5807962.6, 366976.5 5807962.6, 366976.5 5808262.6))\n",
      "MIN MAX: (103, 184)\n",
      "Processing Tile_03_11 with center POINT (13.05103804721448 52.40716354253631)\n",
      "  Bounds: POLYGON ((367276.5 5808262.6, 367576.5 5808262.6, 367576.5 5807962.6, 367276.5 5807962.6, 367276.5 5808262.6))\n",
      "MIN MAX: (97, 205)\n",
      "Processing Tile_03_12 with center POINT (13.05544558382441 52.40723614128784)\n",
      "  Bounds: POLYGON ((367576.5 5808262.6, 367876.5 5808262.6, 367876.5 5807962.6, 367576.5 5807962.6, 367576.5 5808262.6))\n",
      "MIN MAX: (88, 207)\n",
      "Processing Tile_03_13 with center POINT (13.05985313918418 52.40730857580516)\n",
      "  Bounds: POLYGON ((367876.5 5808262.6, 368176.5 5808262.6, 368176.5 5807962.6, 367876.5 5807962.6, 367876.5 5808262.6))\n",
      "MIN MAX: (99, 190)\n",
      "Processing Tile_03_14 with center POINT (13.06426071325145 52.40738084608669)\n",
      "  Bounds: POLYGON ((368176.5 5808262.6, 368476.5 5808262.6, 368476.5 5807962.6, 368176.5 5807962.6, 368176.5 5808262.6))\n",
      "MIN MAX: (90, 184)\n",
      "Processing Tile_04_10 with center POINT (13.0467496302086 52.40439524719083)\n",
      "  Bounds: POLYGON ((366976.5 5807962.6, 367276.5 5807962.6, 367276.5 5807662.6, 366976.5 5807662.6, 366976.5 5807962.6))\n",
      "MIN MAX: (95, 184)\n",
      "Processing Tile_04_11 with center POINT (13.05115687970636 52.40446800313806)\n",
      "  Bounds: POLYGON ((367276.5 5807962.6, 367576.5 5807962.6, 367576.5 5807662.6, 367276.5 5807662.6, 367276.5 5807962.6))\n",
      "MIN MAX: (106, 203)\n",
      "Processing Tile_04_12 with center POINT (13.05556414799238 52.40454059486857)\n",
      "  Bounds: POLYGON ((367576.5 5807962.6, 367876.5 5807962.6, 367876.5 5807662.6, 367576.5 5807662.6, 367576.5 5807962.6))\n",
      "MIN MAX: (79, 213)\n",
      "Processing Tile_04_13 with center POINT (13.05997143502431 52.40461302238074)\n",
      "  Bounds: POLYGON ((367876.5 5807962.6, 368176.5 5807962.6, 368176.5 5807662.6, 367876.5 5807662.6, 367876.5 5807962.6))\n",
      "MIN MAX: (99, 185)\n",
      "Processing Tile_04_14 with center POINT (13.06437874075978 52.40468528567295)\n",
      "  Bounds: POLYGON ((368176.5 5807962.6, 368476.5 5807962.6, 368476.5 5807662.6, 368176.5 5807662.6, 368176.5 5807962.6))\n",
      "MIN MAX: (101, 185)\n",
      "Processing Tile_04_15 with center POINT (13.06878606515646 52.40475738474363)\n",
      "  Bounds: POLYGON ((368476.5 5807962.6, 368776.5 5807962.6, 368776.5 5807662.6, 368476.5 5807662.6, 368476.5 5807962.6))\n",
      "MIN MAX: (83, 184)\n",
      "Processing Tile_05_10 with center POINT (13.04686871218983 52.40169971340226)\n",
      "  Bounds: POLYGON ((366976.5 5807662.6, 367276.5 5807662.6, 367276.5 5807362.6, 366976.5 5807362.6, 366976.5 5807662.6))\n",
      "MIN MAX: (104, 207)\n",
      "Processing Tile_05_11 with center POINT (13.05127569341 52.40177246231349)\n",
      "  Bounds: POLYGON ((367276.5 5807662.6, 367576.5 5807662.6, 367576.5 5807362.6, 367276.5 5807362.6, 367276.5 5807662.6))\n",
      "MIN MAX: (108, 169)\n",
      "Processing Tile_05_12 with center POINT (13.05568269341446 52.40184504702381)\n",
      "  Bounds: POLYGON ((367576.5 5807662.6, 367876.5 5807662.6, 367876.5 5807362.6, 367576.5 5807362.6, 367576.5 5807662.6))\n",
      "MIN MAX: (79, 182)\n",
      "Processing Tile_05_13 with center POINT (13.06008971216087 52.40191746753165)\n",
      "  Bounds: POLYGON ((367876.5 5807662.6, 368176.5 5807662.6, 368176.5 5807362.6, 367876.5 5807362.6, 367876.5 5807662.6))\n",
      "MIN MAX: (103, 232)\n",
      "Processing Tile_05_14 with center POINT (13.0644967496069 52.40198972383541)\n",
      "  Bounds: POLYGON ((368176.5 5807662.6, 368476.5 5807662.6, 368476.5 5807362.6, 368176.5 5807362.6, 368176.5 5807662.6))\n",
      "MIN MAX: (100, 203)\n",
      "Processing Tile_05_15 with center POINT (13.0689038057102 52.40206181593349)\n",
      "  Bounds: POLYGON ((368476.5 5807662.6, 368776.5 5807662.6, 368776.5 5807362.6, 368476.5 5807362.6, 368476.5 5807662.6))\n",
      "MIN MAX: (93, 183)\n",
      "Processing Tile_06_07 with center POINT (13.03376774949507 52.39878496746429)\n",
      "  Bounds: POLYGON ((366076.5 5807362.6, 366376.5 5807362.6, 366376.5 5807062.6, 366076.5 5807062.6, 366076.5 5807362.6))\n",
      "MIN MAX: (92, 195)\n",
      "Processing Tile_06_08 with center POINT (13.03817440588497 52.39885820188577)\n",
      "  Bounds: POLYGON ((366376.5 5807362.6, 366676.5 5807362.6, 366676.5 5807062.6, 366376.5 5807062.6, 366376.5 5807362.6))\n",
      "MIN MAX: (90, 184)\n",
      "Processing Tile_06_09 with center POINT (13.0425810811822 52.39893127212706)\n",
      "  Bounds: POLYGON ((366676.5 5807362.6, 366976.5 5807362.6, 366976.5 5807062.6, 366676.5 5807062.6, 366676.5 5807362.6))\n",
      "MIN MAX: (85, 183)\n",
      "Processing Tile_06_10 with center POINT (13.04698777534443 52.3990041781865)\n",
      "  Bounds: POLYGON ((366976.5 5807362.6, 367276.5 5807362.6, 367276.5 5807062.6, 366976.5 5807062.6, 366976.5 5807362.6))\n",
      "MIN MAX: (1, 224)\n",
      "Processing Tile_06_11 with center POINT (13.05139448832933 52.39907692006255)\n",
      "  Bounds: POLYGON ((367276.5 5807362.6, 367576.5 5807362.6, 367576.5 5807062.6, 367276.5 5807062.6, 367276.5 5807362.6))\n",
      "MIN MAX: (108, 182)\n",
      "Processing Tile_06_12 with center POINT (13.05580122009457 52.39914949775356)\n",
      "  Bounds: POLYGON ((367576.5 5807362.6, 367876.5 5807362.6, 367876.5 5807062.6, 367576.5 5807062.6, 367576.5 5807362.6))\n",
      "MIN MAX: (103, 199)\n",
      "Processing Tile_06_13 with center POINT (13.06020797059782 52.39922191125792)\n",
      "  Bounds: POLYGON ((367876.5 5807362.6, 368176.5 5807362.6, 368176.5 5807062.6, 367876.5 5807062.6, 367876.5 5807362.6))\n",
      "MIN MAX: (86, 189)\n",
      "Processing Tile_06_14 with center POINT (13.06461473979675 52.39929416057407)\n",
      "  Bounds: POLYGON ((368176.5 5807362.6, 368476.5 5807362.6, 368476.5 5807062.6, 368176.5 5807062.6, 368176.5 5807362.6))\n",
      "MIN MAX: (95, 248)\n",
      "Processing Tile_06_15 with center POINT (13.06902152764903 52.39936624570039)\n",
      "  Bounds: POLYGON ((368476.5 5807362.6, 368776.5 5807362.6, 368776.5 5807062.6, 368476.5 5807062.6, 368476.5 5807362.6))\n",
      "MIN MAX: (94, 178)\n",
      "Processing Tile_07_07 with center POINT (13.033887598382 52.39608945201946)\n",
      "  Bounds: POLYGON ((366076.5 5807062.6, 366376.5 5807062.6, 366376.5 5806762.6, 366076.5 5806762.6, 366076.5 5807062.6))\n",
      "MIN MAX: (101, 249)\n",
      "Processing Tile_07_08 with center POINT (13.03829398659088 52.39616267935906)\n",
      "  Bounds: POLYGON ((366376.5 5807062.6, 366676.5 5807062.6, 366676.5 5806762.6, 366376.5 5806762.6, 366376.5 5807062.6))\n",
      "MIN MAX: (98, 255)\n",
      "Processing Tile_07_09 with center POINT (13.04270039370311 52.39623574253429)\n",
      "  Bounds: POLYGON ((366676.5 5807062.6, 366976.5 5807062.6, 366976.5 5806762.6, 366676.5 5806762.6, 366676.5 5807062.6))\n",
      "MIN MAX: (86, 220)\n",
      "Processing Tile_07_10 with center POINT (13.04710681967636 52.39630864154358)\n",
      "  Bounds: POLYGON ((366976.5 5807062.6, 367276.5 5807062.6, 367276.5 5806762.6, 366976.5 5806762.6, 366976.5 5807062.6))\n",
      "MIN MAX: (69, 254)\n",
      "Processing Tile_07_11 with center POINT (13.05151326446832 52.3963813763853)\n",
      "  Bounds: POLYGON ((367276.5 5807062.6, 367576.5 5807062.6, 367576.5 5806762.6, 367276.5 5806762.6, 367276.5 5807062.6))\n",
      "MIN MAX: (105, 230)\n",
      "Processing Tile_07_12 with center POINT (13.05591972803668 52.39645394705782)\n",
      "  Bounds: POLYGON ((367576.5 5807062.6, 367876.5 5807062.6, 367876.5 5806762.6, 367576.5 5806762.6, 367576.5 5807062.6))\n",
      "MIN MAX: (107, 174)\n",
      "Processing Tile_07_13 with center POINT (13.06032621033909 52.39652635355958)\n",
      "  Bounds: POLYGON ((367876.5 5807062.6, 368176.5 5807062.6, 368176.5 5806762.6, 367876.5 5806762.6, 367876.5 5807062.6))\n"
     ]
    },
    {
     "name": "stdout",
     "output_type": "stream",
     "text": [
      "MIN MAX: (97, 221)\n"
     ]
    }
   ],
   "source": [
    "for key in keys:\n",
    "    # process_tile(key)\n",
    "    process_tile_with_norm(key)\n"
   ]
  },
  {
   "cell_type": "markdown",
   "metadata": {},
   "source": [
    "### Get the extent of the data"
   ]
  },
  {
   "cell_type": "code",
   "execution_count": 6,
   "metadata": {
    "collapsed": true
   },
   "outputs": [],
   "source": [
    "def get_bounds(key):\n",
    "    m = re.search(r\"\\_(\\d\\d)\\_(\\d\\d)\", key)\n",
    "    k = m.group(0)\n",
    "    src = rasterio.open('s3://otid-data/%s' % key)\n",
    "    try:\n",
    "        return bounds_to_shape(src.bounds)\n",
    "    finally:\n",
    "        src.close()\n",
    "\n",
    "bounds = []\n",
    "for key in keys:\n",
    "    bounds.append(get_bounds(key))\n"
   ]
  },
  {
   "cell_type": "code",
   "execution_count": 12,
   "metadata": {
    "collapsed": true
   },
   "outputs": [],
   "source": [
    "p = reduce(lambda a, b: a.union(b), bounds)\n"
   ]
  },
  {
   "cell_type": "code",
   "execution_count": 15,
   "metadata": {},
   "outputs": [
    {
     "data": {
      "text/plain": [
       "(366076.5, 5806762.6, 368776.5, 5808562.6)"
      ]
     },
     "execution_count": 15,
     "metadata": {},
     "output_type": "execute_result"
    }
   ],
   "source": [
    "p.envelope.bounds\n"
   ]
  },
  {
   "cell_type": "markdown",
   "metadata": {},
   "source": [
    "### Debug code"
   ]
  },
  {
   "cell_type": "code",
   "execution_count": 23,
   "metadata": {},
   "outputs": [
    {
     "data": {
      "text/plain": [
       "'{\"type\": \"Polygon\", \"coordinates\": [[[1450606.9863003485, 6874761.1777096335], [1453551.0983858046, 6874841.041727237], [1453630.1872897947, 6871890.04526937], [1450687.1503113946, 6871810.256835365], [1450606.9863003485, 6874761.1777096335]]]}'"
      ]
     },
     "execution_count": 23,
     "metadata": {},
     "output_type": "execute_result"
    }
   ],
   "source": [
    "## Figure out the bounds of the DEM data in Web Mercator\n",
    "import json\n",
    "lmd = read_layer_metadata(geopysc, SPATIAL, catalog_uri, \"potsdam\", 0)\n",
    "e = lmd['extent']\n",
    "s = extent_to_shape(e)\n",
    "\n",
    "project = partial(\n",
    "    pyproj.transform,\n",
    "    pyproj.Proj(init='epsg:32633'),\n",
    "    pyproj.Proj(init='epsg:3857'))\n",
    "rs = transform(project, s)\n",
    "json.dumps(mapping(rs))"
   ]
  },
  {
   "cell_type": "code",
   "execution_count": null,
   "metadata": {
    "collapsed": true
   },
   "outputs": [],
   "source": [
    "# There was some data missing, debug code to figure that out\n",
    "key = keys[3]\n",
    "src = rasterio.open('s3://otid-data/%s' % key)\n",
    "bounds = bounds_to_shape(src.bounds)"
   ]
  },
  {
   "cell_type": "code",
   "execution_count": null,
   "metadata": {
    "collapsed": true
   },
   "outputs": [],
   "source": [
    "list(bounds.bounds)"
   ]
  },
  {
   "cell_type": "code",
   "execution_count": null,
   "metadata": {
    "collapsed": true
   },
   "outputs": [],
   "source": [
    "process_tile(keys[3])"
   ]
  },
  {
   "cell_type": "code",
   "execution_count": null,
   "metadata": {
    "collapsed": true
   },
   "outputs": [],
   "source": [
    "M.remove_layer(M.layers[0])"
   ]
  },
  {
   "cell_type": "code",
   "execution_count": null,
   "metadata": {
    "collapsed": true
   },
   "outputs": [],
   "source": [
    "d = GeoJsonData(mapping(ll_bounds))"
   ]
  },
  {
   "cell_type": "code",
   "execution_count": null,
   "metadata": {
    "collapsed": true
   },
   "outputs": [],
   "source": [
    "M.add_layer(d, name=\"test\", colors=[0xFFFF00])"
   ]
  },
  {
   "cell_type": "code",
   "execution_count": null,
   "metadata": {
    "collapsed": true
   },
   "outputs": [],
   "source": [
    "ll_bounds = reprojected(bounds)\n",
    "M.set_center(ll_bounds.centroid.x, ll_bounds.centroid.y, 15)"
   ]
  },
  {
   "cell_type": "code",
   "execution_count": null,
   "metadata": {
    "collapsed": true
   },
   "outputs": [],
   "source": [
    "bounds.centroid.x\n"
   ]
  },
  {
   "cell_type": "code",
   "execution_count": 9,
   "metadata": {},
   "outputs": [
    {
     "data": {
      "text/plain": [
       "38"
      ]
     },
     "execution_count": 9,
     "metadata": {},
     "output_type": "execute_result"
    }
   ],
   "source": [
    "len(set(keys))"
   ]
  },
  {
   "cell_type": "code",
   "execution_count": 10,
   "metadata": {},
   "outputs": [
    {
     "data": {
      "text/plain": [
       "['input/1_DSM_normalisation_geotiff-with-geo/dsm_potsdam_02_10_normalized_lastools-geo.tif',\n",
       " 'input/1_DSM_normalisation_geotiff-with-geo/dsm_potsdam_02_11_normalized_lastools-geo.tif',\n",
       " 'input/1_DSM_normalisation_geotiff-with-geo/dsm_potsdam_02_12_normalized_lastools-geo.tif',\n",
       " 'input/1_DSM_normalisation_geotiff-with-geo/dsm_potsdam_02_13_normalized_lastools-geo.tif',\n",
       " 'input/1_DSM_normalisation_geotiff-with-geo/dsm_potsdam_02_14_normalized_lastools-geo.tif',\n",
       " 'input/1_DSM_normalisation_geotiff-with-geo/dsm_potsdam_03_10_normalized_lastools-geo.tif',\n",
       " 'input/1_DSM_normalisation_geotiff-with-geo/dsm_potsdam_03_11_normalized_lastools-geo.tif',\n",
       " 'input/1_DSM_normalisation_geotiff-with-geo/dsm_potsdam_03_12_normalized_lastools-geo.tif',\n",
       " 'input/1_DSM_normalisation_geotiff-with-geo/dsm_potsdam_03_13_normalized_lastools-geo.tif',\n",
       " 'input/1_DSM_normalisation_geotiff-with-geo/dsm_potsdam_03_14_normalized_lastools-geo.tif',\n",
       " 'input/1_DSM_normalisation_geotiff-with-geo/dsm_potsdam_04_10_normalized_lastools-geo.tif',\n",
       " 'input/1_DSM_normalisation_geotiff-with-geo/dsm_potsdam_04_11_normalized_lastools-geo.tif',\n",
       " 'input/1_DSM_normalisation_geotiff-with-geo/dsm_potsdam_04_12_normalized_lastools-geo.tif',\n",
       " 'input/1_DSM_normalisation_geotiff-with-geo/dsm_potsdam_04_13_normalized_lastools-geo.tif',\n",
       " 'input/1_DSM_normalisation_geotiff-with-geo/dsm_potsdam_04_14_normalized_lastools-geo.tif',\n",
       " 'input/1_DSM_normalisation_geotiff-with-geo/dsm_potsdam_04_15_normalized_lastools-geo.tif',\n",
       " 'input/1_DSM_normalisation_geotiff-with-geo/dsm_potsdam_05_10_normalized_lastools-geo.tif',\n",
       " 'input/1_DSM_normalisation_geotiff-with-geo/dsm_potsdam_05_11_normalized_lastools-geo.tif',\n",
       " 'input/1_DSM_normalisation_geotiff-with-geo/dsm_potsdam_05_12_normalized_lastools-geo.tif',\n",
       " 'input/1_DSM_normalisation_geotiff-with-geo/dsm_potsdam_05_13_normalized_lastools-geo.tif',\n",
       " 'input/1_DSM_normalisation_geotiff-with-geo/dsm_potsdam_05_14_normalized_lastools-geo.tif',\n",
       " 'input/1_DSM_normalisation_geotiff-with-geo/dsm_potsdam_05_15_normalized_lastools-geo.tif',\n",
       " 'input/1_DSM_normalisation_geotiff-with-geo/dsm_potsdam_06_07_normalized_lastools-geo.tif',\n",
       " 'input/1_DSM_normalisation_geotiff-with-geo/dsm_potsdam_06_08_normalized_lastools-geo.tif',\n",
       " 'input/1_DSM_normalisation_geotiff-with-geo/dsm_potsdam_06_09_normalized_lastools-geo.tif',\n",
       " 'input/1_DSM_normalisation_geotiff-with-geo/dsm_potsdam_06_10_normalized_lastools-geo.tif',\n",
       " 'input/1_DSM_normalisation_geotiff-with-geo/dsm_potsdam_06_11_normalized_lastools-geo.tif',\n",
       " 'input/1_DSM_normalisation_geotiff-with-geo/dsm_potsdam_06_12_normalized_lastools-geo.tif',\n",
       " 'input/1_DSM_normalisation_geotiff-with-geo/dsm_potsdam_06_13_normalized_lastools-geo.tif',\n",
       " 'input/1_DSM_normalisation_geotiff-with-geo/dsm_potsdam_06_14_normalized_lastools-geo.tif',\n",
       " 'input/1_DSM_normalisation_geotiff-with-geo/dsm_potsdam_06_15_normalized_lastools-geo.tif',\n",
       " 'input/1_DSM_normalisation_geotiff-with-geo/dsm_potsdam_07_07_normalized_lastools-geo.tif',\n",
       " 'input/1_DSM_normalisation_geotiff-with-geo/dsm_potsdam_07_08_normalized_lastools-geo.tif',\n",
       " 'input/1_DSM_normalisation_geotiff-with-geo/dsm_potsdam_07_09_normalized_lastools-geo.tif',\n",
       " 'input/1_DSM_normalisation_geotiff-with-geo/dsm_potsdam_07_10_normalized_lastools-geo.tif',\n",
       " 'input/1_DSM_normalisation_geotiff-with-geo/dsm_potsdam_07_11_normalized_lastools-geo.tif',\n",
       " 'input/1_DSM_normalisation_geotiff-with-geo/dsm_potsdam_07_12_normalized_lastools-geo.tif',\n",
       " 'input/1_DSM_normalisation_geotiff-with-geo/dsm_potsdam_07_13_normalized_lastools-geo.tif']"
      ]
     },
     "execution_count": 10,
     "metadata": {},
     "output_type": "execute_result"
    }
   ],
   "source": [
    "keys"
   ]
  },
  {
   "cell_type": "code",
   "execution_count": null,
   "metadata": {
    "collapsed": true
   },
   "outputs": [],
   "source": []
  }
 ],
 "metadata": {
  "kernelspec": {
   "display_name": "GeoNotebook + GeoPySpark (local)",
   "language": "python",
   "name": "geonotebook3"
  },
  "language_info": {
   "codemirror_mode": {
    "name": "ipython",
    "version": 3
   },
   "file_extension": ".py",
   "mimetype": "text/x-python",
   "name": "python",
   "nbconvert_exporter": "python",
   "pygments_lexer": "ipython3",
   "version": "3.4.5"
  }
 },
 "nbformat": 4,
 "nbformat_minor": 2
}
